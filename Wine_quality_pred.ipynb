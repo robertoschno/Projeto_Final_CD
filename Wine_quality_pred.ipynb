{
 "cells": [
  {
   "cell_type": "markdown",
   "metadata": {},
   "source": [
    "## Projeto Classificado de vinhos tintos\n",
    "integrantes: Roberto Schnorrenberg e Raphael Butori - Turma B"
   ]
  },
  {
   "cell_type": "code",
   "execution_count": 1,
   "metadata": {},
   "outputs": [],
   "source": [
    "import pandas as pd\n",
    "import numpy as np\n",
    "import math\n",
    "import scipy.stats as stats\n",
    "import statsmodels.api as sm\n",
    "import matplotlib.pyplot as plt\n",
    "from seaborn import heatmap\n",
    "from sklearn.ensemble import RandomForestRegressor\n",
    "from sklearn import datasets, ensemble\n",
    "from sklearn.metrics import mean_squared_error\n",
    "import seaborn as sns"
   ]
  },
  {
   "cell_type": "markdown",
   "metadata": {},
   "source": [
    "# Objetivo:\n",
    "\n",
    "A partir de um dataset de quality, em relação com as informações de cada vinho tinto analisado no dataset, será construido, nesse projeto, uma regressão, além da utilização dos algoritmos Random Forest e Gradient Boosting, que avalie cada vinho decorrente de suas informações principais (base de dados)."
   ]
  },
  {
   "cell_type": "code",
   "execution_count": 2,
   "metadata": {},
   "outputs": [],
   "source": [
    "dados1=pd.read_csv('wine_quality.csv')"
   ]
  },
  {
   "cell_type": "code",
   "execution_count": 3,
   "metadata": {},
   "outputs": [],
   "source": [
    "def limpeza(x):\n",
    "    for y in range(len(x)-1):\n",
    "        i=0\n",
    "        seguidos=0\n",
    "        for z in x.columns:\n",
    "            if x[z][y+1]==x[z][y-seguidos]:\n",
    "                i+=1\n",
    "        if i==len(x.columns):\n",
    "            x.drop(index=y,inplace=True)\n",
    "            seguidos+=1\n",
    "        else:\n",
    "            seguidos=0"
   ]
  },
  {
   "cell_type": "code",
   "execution_count": 4,
   "metadata": {},
   "outputs": [],
   "source": [
    "limpeza(dados1)"
   ]
  },
  {
   "cell_type": "code",
   "execution_count": 5,
   "metadata": {},
   "outputs": [
    {
     "data": {
      "text/html": [
       "<div>\n",
       "<style scoped>\n",
       "    .dataframe tbody tr th:only-of-type {\n",
       "        vertical-align: middle;\n",
       "    }\n",
       "\n",
       "    .dataframe tbody tr th {\n",
       "        vertical-align: top;\n",
       "    }\n",
       "\n",
       "    .dataframe thead th {\n",
       "        text-align: right;\n",
       "    }\n",
       "</style>\n",
       "<table border=\"1\" class=\"dataframe\">\n",
       "  <thead>\n",
       "    <tr style=\"text-align: right;\">\n",
       "      <th></th>\n",
       "      <th>fixed acidity</th>\n",
       "      <th>volatile acidity</th>\n",
       "      <th>citric acid</th>\n",
       "      <th>residual sugar</th>\n",
       "      <th>chlorides</th>\n",
       "      <th>free sulfur dioxide</th>\n",
       "      <th>total sulfur dioxide</th>\n",
       "      <th>density</th>\n",
       "      <th>pH</th>\n",
       "      <th>sulphates</th>\n",
       "      <th>alcohol</th>\n",
       "      <th>quality</th>\n",
       "    </tr>\n",
       "  </thead>\n",
       "  <tbody>\n",
       "    <tr>\n",
       "      <th>0</th>\n",
       "      <td>7.4</td>\n",
       "      <td>0.70</td>\n",
       "      <td>0.00</td>\n",
       "      <td>1.9</td>\n",
       "      <td>0.076</td>\n",
       "      <td>11.0</td>\n",
       "      <td>34.0</td>\n",
       "      <td>0.9978</td>\n",
       "      <td>3.51</td>\n",
       "      <td>0.56</td>\n",
       "      <td>9.4</td>\n",
       "      <td>5</td>\n",
       "    </tr>\n",
       "    <tr>\n",
       "      <th>1</th>\n",
       "      <td>7.8</td>\n",
       "      <td>0.88</td>\n",
       "      <td>0.00</td>\n",
       "      <td>2.6</td>\n",
       "      <td>0.098</td>\n",
       "      <td>25.0</td>\n",
       "      <td>67.0</td>\n",
       "      <td>0.9968</td>\n",
       "      <td>3.20</td>\n",
       "      <td>0.68</td>\n",
       "      <td>9.8</td>\n",
       "      <td>5</td>\n",
       "    </tr>\n",
       "    <tr>\n",
       "      <th>2</th>\n",
       "      <td>7.8</td>\n",
       "      <td>0.76</td>\n",
       "      <td>0.04</td>\n",
       "      <td>2.3</td>\n",
       "      <td>0.092</td>\n",
       "      <td>15.0</td>\n",
       "      <td>54.0</td>\n",
       "      <td>0.9970</td>\n",
       "      <td>3.26</td>\n",
       "      <td>0.65</td>\n",
       "      <td>9.8</td>\n",
       "      <td>5</td>\n",
       "    </tr>\n",
       "    <tr>\n",
       "      <th>3</th>\n",
       "      <td>11.2</td>\n",
       "      <td>0.28</td>\n",
       "      <td>0.56</td>\n",
       "      <td>1.9</td>\n",
       "      <td>0.075</td>\n",
       "      <td>17.0</td>\n",
       "      <td>60.0</td>\n",
       "      <td>0.9980</td>\n",
       "      <td>3.16</td>\n",
       "      <td>0.58</td>\n",
       "      <td>9.8</td>\n",
       "      <td>6</td>\n",
       "    </tr>\n",
       "    <tr>\n",
       "      <th>4</th>\n",
       "      <td>7.4</td>\n",
       "      <td>0.70</td>\n",
       "      <td>0.00</td>\n",
       "      <td>1.9</td>\n",
       "      <td>0.076</td>\n",
       "      <td>11.0</td>\n",
       "      <td>34.0</td>\n",
       "      <td>0.9978</td>\n",
       "      <td>3.51</td>\n",
       "      <td>0.56</td>\n",
       "      <td>9.4</td>\n",
       "      <td>5</td>\n",
       "    </tr>\n",
       "  </tbody>\n",
       "</table>\n",
       "</div>"
      ],
      "text/plain": [
       "   fixed acidity  volatile acidity  citric acid  residual sugar  chlorides  \\\n",
       "0            7.4              0.70         0.00             1.9      0.076   \n",
       "1            7.8              0.88         0.00             2.6      0.098   \n",
       "2            7.8              0.76         0.04             2.3      0.092   \n",
       "3           11.2              0.28         0.56             1.9      0.075   \n",
       "4            7.4              0.70         0.00             1.9      0.076   \n",
       "\n",
       "   free sulfur dioxide  total sulfur dioxide  density    pH  sulphates  \\\n",
       "0                 11.0                  34.0   0.9978  3.51       0.56   \n",
       "1                 25.0                  67.0   0.9968  3.20       0.68   \n",
       "2                 15.0                  54.0   0.9970  3.26       0.65   \n",
       "3                 17.0                  60.0   0.9980  3.16       0.58   \n",
       "4                 11.0                  34.0   0.9978  3.51       0.56   \n",
       "\n",
       "   alcohol  quality  \n",
       "0      9.4        5  \n",
       "1      9.8        5  \n",
       "2      9.8        5  \n",
       "3      9.8        6  \n",
       "4      9.4        5  "
      ]
     },
     "execution_count": 5,
     "metadata": {},
     "output_type": "execute_result"
    }
   ],
   "source": [
    "dados1.head()"
   ]
  },
  {
   "cell_type": "code",
   "execution_count": 6,
   "metadata": {},
   "outputs": [],
   "source": [
    "dados=dados1[0:round((len(dados1))*.75)]\n",
    "dadost=dados1[round((len(dados1))*.75):]"
   ]
  },
  {
   "cell_type": "markdown",
   "metadata": {},
   "source": [
    "## Análise exploratória dos dados"
   ]
  },
  {
   "cell_type": "code",
   "execution_count": 7,
   "metadata": {
    "scrolled": true
   },
   "outputs": [
    {
     "data": {
      "text/html": [
       "<div>\n",
       "<style scoped>\n",
       "    .dataframe tbody tr th:only-of-type {\n",
       "        vertical-align: middle;\n",
       "    }\n",
       "\n",
       "    .dataframe tbody tr th {\n",
       "        vertical-align: top;\n",
       "    }\n",
       "\n",
       "    .dataframe thead th {\n",
       "        text-align: right;\n",
       "    }\n",
       "</style>\n",
       "<table border=\"1\" class=\"dataframe\">\n",
       "  <thead>\n",
       "    <tr style=\"text-align: right;\">\n",
       "      <th></th>\n",
       "      <th>fixed acidity</th>\n",
       "      <th>volatile acidity</th>\n",
       "      <th>citric acid</th>\n",
       "      <th>residual sugar</th>\n",
       "      <th>chlorides</th>\n",
       "      <th>free sulfur dioxide</th>\n",
       "      <th>total sulfur dioxide</th>\n",
       "      <th>density</th>\n",
       "      <th>pH</th>\n",
       "      <th>sulphates</th>\n",
       "      <th>alcohol</th>\n",
       "      <th>quality</th>\n",
       "    </tr>\n",
       "  </thead>\n",
       "  <tbody>\n",
       "    <tr>\n",
       "      <th>count</th>\n",
       "      <td>1131.000000</td>\n",
       "      <td>1131.000000</td>\n",
       "      <td>1131.000000</td>\n",
       "      <td>1131.000000</td>\n",
       "      <td>1131.000000</td>\n",
       "      <td>1131.000000</td>\n",
       "      <td>1131.000000</td>\n",
       "      <td>1131.000000</td>\n",
       "      <td>1131.000000</td>\n",
       "      <td>1131.000000</td>\n",
       "      <td>1131.000000</td>\n",
       "      <td>1131.000000</td>\n",
       "    </tr>\n",
       "    <tr>\n",
       "      <th>mean</th>\n",
       "      <td>8.612909</td>\n",
       "      <td>0.520234</td>\n",
       "      <td>0.292414</td>\n",
       "      <td>2.558709</td>\n",
       "      <td>0.089513</td>\n",
       "      <td>15.341291</td>\n",
       "      <td>47.309461</td>\n",
       "      <td>0.997052</td>\n",
       "      <td>3.298267</td>\n",
       "      <td>0.667542</td>\n",
       "      <td>10.379399</td>\n",
       "      <td>5.656941</td>\n",
       "    </tr>\n",
       "    <tr>\n",
       "      <th>std</th>\n",
       "      <td>1.764044</td>\n",
       "      <td>0.179039</td>\n",
       "      <td>0.195915</td>\n",
       "      <td>1.245838</td>\n",
       "      <td>0.049275</td>\n",
       "      <td>10.256458</td>\n",
       "      <td>34.274990</td>\n",
       "      <td>0.001862</td>\n",
       "      <td>0.155447</td>\n",
       "      <td>0.178764</td>\n",
       "      <td>1.094455</td>\n",
       "      <td>0.812999</td>\n",
       "    </tr>\n",
       "    <tr>\n",
       "      <th>min</th>\n",
       "      <td>4.600000</td>\n",
       "      <td>0.120000</td>\n",
       "      <td>0.000000</td>\n",
       "      <td>0.900000</td>\n",
       "      <td>0.012000</td>\n",
       "      <td>1.000000</td>\n",
       "      <td>6.000000</td>\n",
       "      <td>0.990070</td>\n",
       "      <td>2.740000</td>\n",
       "      <td>0.330000</td>\n",
       "      <td>8.400000</td>\n",
       "      <td>3.000000</td>\n",
       "    </tr>\n",
       "    <tr>\n",
       "      <th>25%</th>\n",
       "      <td>7.300000</td>\n",
       "      <td>0.390000</td>\n",
       "      <td>0.120000</td>\n",
       "      <td>1.900000</td>\n",
       "      <td>0.071000</td>\n",
       "      <td>7.000000</td>\n",
       "      <td>22.000000</td>\n",
       "      <td>0.996000</td>\n",
       "      <td>3.200000</td>\n",
       "      <td>0.560000</td>\n",
       "      <td>9.500000</td>\n",
       "      <td>5.000000</td>\n",
       "    </tr>\n",
       "    <tr>\n",
       "      <th>50%</th>\n",
       "      <td>8.300000</td>\n",
       "      <td>0.500000</td>\n",
       "      <td>0.280000</td>\n",
       "      <td>2.200000</td>\n",
       "      <td>0.080000</td>\n",
       "      <td>13.000000</td>\n",
       "      <td>38.000000</td>\n",
       "      <td>0.997000</td>\n",
       "      <td>3.300000</td>\n",
       "      <td>0.620000</td>\n",
       "      <td>10.000000</td>\n",
       "      <td>6.000000</td>\n",
       "    </tr>\n",
       "    <tr>\n",
       "      <th>75%</th>\n",
       "      <td>9.600000</td>\n",
       "      <td>0.630000</td>\n",
       "      <td>0.450000</td>\n",
       "      <td>2.700000</td>\n",
       "      <td>0.092000</td>\n",
       "      <td>21.000000</td>\n",
       "      <td>63.000000</td>\n",
       "      <td>0.998150</td>\n",
       "      <td>3.390000</td>\n",
       "      <td>0.740000</td>\n",
       "      <td>11.000000</td>\n",
       "      <td>6.000000</td>\n",
       "    </tr>\n",
       "    <tr>\n",
       "      <th>max</th>\n",
       "      <td>15.900000</td>\n",
       "      <td>1.330000</td>\n",
       "      <td>1.000000</td>\n",
       "      <td>15.500000</td>\n",
       "      <td>0.611000</td>\n",
       "      <td>68.000000</td>\n",
       "      <td>289.000000</td>\n",
       "      <td>1.003200</td>\n",
       "      <td>3.900000</td>\n",
       "      <td>2.000000</td>\n",
       "      <td>14.900000</td>\n",
       "      <td>8.000000</td>\n",
       "    </tr>\n",
       "  </tbody>\n",
       "</table>\n",
       "</div>"
      ],
      "text/plain": [
       "       fixed acidity  volatile acidity  citric acid  residual sugar  \\\n",
       "count    1131.000000       1131.000000  1131.000000     1131.000000   \n",
       "mean        8.612909          0.520234     0.292414        2.558709   \n",
       "std         1.764044          0.179039     0.195915        1.245838   \n",
       "min         4.600000          0.120000     0.000000        0.900000   \n",
       "25%         7.300000          0.390000     0.120000        1.900000   \n",
       "50%         8.300000          0.500000     0.280000        2.200000   \n",
       "75%         9.600000          0.630000     0.450000        2.700000   \n",
       "max        15.900000          1.330000     1.000000       15.500000   \n",
       "\n",
       "         chlorides  free sulfur dioxide  total sulfur dioxide      density  \\\n",
       "count  1131.000000          1131.000000           1131.000000  1131.000000   \n",
       "mean      0.089513            15.341291             47.309461     0.997052   \n",
       "std       0.049275            10.256458             34.274990     0.001862   \n",
       "min       0.012000             1.000000              6.000000     0.990070   \n",
       "25%       0.071000             7.000000             22.000000     0.996000   \n",
       "50%       0.080000            13.000000             38.000000     0.997000   \n",
       "75%       0.092000            21.000000             63.000000     0.998150   \n",
       "max       0.611000            68.000000            289.000000     1.003200   \n",
       "\n",
       "                pH    sulphates      alcohol      quality  \n",
       "count  1131.000000  1131.000000  1131.000000  1131.000000  \n",
       "mean      3.298267     0.667542    10.379399     5.656941  \n",
       "std       0.155447     0.178764     1.094455     0.812999  \n",
       "min       2.740000     0.330000     8.400000     3.000000  \n",
       "25%       3.200000     0.560000     9.500000     5.000000  \n",
       "50%       3.300000     0.620000    10.000000     6.000000  \n",
       "75%       3.390000     0.740000    11.000000     6.000000  \n",
       "max       3.900000     2.000000    14.900000     8.000000  "
      ]
     },
     "execution_count": 7,
     "metadata": {},
     "output_type": "execute_result"
    }
   ],
   "source": [
    "dados.describe()"
   ]
  },
  {
   "cell_type": "markdown",
   "metadata": {},
   "source": [
    "### Histogramas"
   ]
  },
  {
   "cell_type": "code",
   "execution_count": 8,
   "metadata": {},
   "outputs": [
    {
     "data": {
      "image/png": "[encoded data removed]",
      "text/plain": [
       "<Figure size 432x288 with 1 Axes>"
      ]
     },
     "metadata": {
      "needs_background": "light"
     },
     "output_type": "display_data"
    },
    {
     "data": {
      "image/png": "[encoded data removed]",
      "text/plain": [
       "<Figure size 432x288 with 1 Axes>"
      ]
     },
     "metadata": {
      "needs_background": "light"
     },
     "output_type": "display_data"
    },
    {
     "data": {
      "image/png": "[encoded data removed]",
      "text/plain": [
       "<Figure size 432x288 with 1 Axes>"
      ]
     },
     "metadata": {
      "needs_background": "light"
     },
     "output_type": "display_data"
    },
    {
     "data": {
      "image/png": "[encoded data removed]",
      "text/plain": [
       "<Figure size 432x288 with 1 Axes>"
      ]
     },
     "metadata": {
      "needs_background": "light"
     },
     "output_type": "display_data"
    },
    {
     "data": {
      "image/png": "[encoded data removed]",
      "text/plain": [
       "<Figure size 432x288 with 1 Axes>"
      ]
     },
     "metadata": {
      "needs_background": "light"
     },
     "output_type": "display_data"
    },
    {
     "data": {
      "image/png": "[encoded data removed]",
      "text/plain": [
       "<Figure size 432x288 with 1 Axes>"
      ]
     },
     "metadata": {
      "needs_background": "light"
     },
     "output_type": "display_data"
    },
    {
     "data": {
      "image/png": "[encoded data removed]",
      "text/plain": [
       "<Figure size 432x288 with 1 Axes>"
      ]
     },
     "metadata": {
      "needs_background": "light"
     },
     "output_type": "display_data"
    },
    {
     "data": {
      "image/png": "[encoded data removed]",
      "text/plain": [
       "<Figure size 432x288 with 1 Axes>"
      ]
     },
     "metadata": {
      "needs_background": "light"
     },
     "output_type": "display_data"
    },
    {
     "data": {
      "image/png": "[encoded data removed]",
      "text/plain": [
       "<Figure size 432x288 with 1 Axes>"
      ]
     },
     "metadata": {
      "needs_background": "light"
     },
     "output_type": "display_data"
    },
    {
     "data": {
      "image/png": "[encoded data removed]",
      "text/plain": [
       "<Figure size 432x288 with 1 Axes>"
      ]
     },
     "metadata": {
      "needs_background": "light"
     },
     "output_type": "display_data"
    },
    {
     "data": {
      "image/png": "[encoded data removed]",
      "text/plain": [
       "<Figure size 432x288 with 1 Axes>"
      ]
     },
     "metadata": {
      "needs_background": "light"
     },
     "output_type": "display_data"
    },
    {
     "data": {
      "image/png": "[encoded data removed]",
      "text/plain": [
       "<Figure size 432x288 with 1 Axes>"
      ]
     },
     "metadata": {
      "needs_background": "light"
     },
     "output_type": "display_data"
    }
   ],
   "source": [
    "for x in dados.columns:\n",
    "    dados.hist(column=x)"
   ]
  },
  {
   "cell_type": "markdown",
   "metadata": {},
   "source": [
    "### Boxplot"
   ]
  },
  {
   "cell_type": "code",
   "execution_count": 9,
   "metadata": {},
   "outputs": [
    {
     "data": {
      "image/png": "[encoded data removed]",
      "text/plain": [
       "<Figure size 432x288 with 1 Axes>"
      ]
     },
     "metadata": {
      "needs_background": "light"
     },
     "output_type": "display_data"
    },
    {
     "data": {
      "image/png": "[encoded data removed]",
      "text/plain": [
       "<Figure size 432x288 with 1 Axes>"
      ]
     },
     "metadata": {
      "needs_background": "light"
     },
     "output_type": "display_data"
    },
    {
     "data": {
      "image/png": "[encoded data removed]",
      "text/plain": [
       "<Figure size 432x288 with 1 Axes>"
      ]
     },
     "metadata": {
      "needs_background": "light"
     },
     "output_type": "display_data"
    },
    {
     "data": {
      "image/png": "[encoded data removed]",
      "text/plain": [
       "<Figure size 432x288 with 1 Axes>"
      ]
     },
     "metadata": {
      "needs_background": "light"
     },
     "output_type": "display_data"
    },
    {
     "data": {
      "image/png": "[encoded data removed]",
      "text/plain": [
       "<Figure size 432x288 with 1 Axes>"
      ]
     },
     "metadata": {
      "needs_background": "light"
     },
     "output_type": "display_data"
    },
    {
     "data": {
      "image/png": "[encoded data removed]",
      "text/plain": [
       "<Figure size 432x288 with 1 Axes>"
      ]
     },
     "metadata": {
      "needs_background": "light"
     },
     "output_type": "display_data"
    },
    {
     "data": {
      "image/png": "[encoded data removed]",
      "text/plain": [
       "<Figure size 432x288 with 1 Axes>"
      ]
     },
     "metadata": {
      "needs_background": "light"
     },
     "output_type": "display_data"
    },
    {
     "data": {
      "image/png": "[encoded data removed]",
      "text/plain": [
       "<Figure size 432x288 with 1 Axes>"
      ]
     },
     "metadata": {
      "needs_background": "light"
     },
     "output_type": "display_data"
    },
    {
     "data": {
      "image/png": "[encoded data removed]",
      "text/plain": [
       "<Figure size 432x288 with 1 Axes>"
      ]
     },
     "metadata": {
      "needs_background": "light"
     },
     "output_type": "display_data"
    },
    {
     "data": {
      "image/png": "[encoded data removed]",
      "text/plain": [
       "<Figure size 432x288 with 1 Axes>"
      ]
     },
     "metadata": {
      "needs_background": "light"
     },
     "output_type": "display_data"
    },
    {
     "data": {
      "image/png": "[encoded data removed]",
      "text/plain": [
       "<Figure size 432x288 with 1 Axes>"
      ]
     },
     "metadata": {
      "needs_background": "light"
     },
     "output_type": "display_data"
    }
   ],
   "source": [
    "for x in dados.columns:\n",
    "    if x!='quality':\n",
    "        dados.boxplot(column=x,by='quality');#subplots"
   ]
  },
  {
   "cell_type": "markdown",
   "metadata": {},
   "source": [
    "###### observação dos boxplots\n",
    "Observando bem os boxplots podemos perceber algumas características decorrentes dos vinhos com uma avaliação melhor que o normal, como por exemplo, no Boxplot da \"quality\" em relação com a \"fixed acidity\" é possível discernir que um vinho tinto bom com alta avaliação possui um grau um pouco maior de acidez em sua constituição, quando sua linha verde representando a mediana está presente acima das demais.\n",
    "\n",
    "Onde podemos aobservar com mais clareza no Boxplot da relação da \"quality\" com o \"alcohol\", nesse quadrante fica explicito que um vinho mais bem avaliado possui um nível alcoolico mais elevado. E portanto, além desse Boxplot outros como os das variáveis \"sulphates\"e \"citric acids\" tamém possuem a mesma relação, ou seja, quanto mais \"sulphates\" e \"citric acids\" melhor será a nota do vinho em questão.\n",
    "\n",
    "Por outro lado apresenta-se o inverso desse caso descrito acima. Ou seja, para algumas variáveis como \"volatile acidity\", \"chlorides\", \"density\" e \"pH\" se tem um processo contrário, onde quanto menor a quantidade dessas variáveis estiverem presentes no vinho em questão melhor será sua nota."
   ]
  },
  {
   "cell_type": "code",
   "execution_count": 10,
   "metadata": {},
   "outputs": [
    {
     "data": {
      "text/plain": [
       "fixed acidity           0\n",
       "volatile acidity        0\n",
       "citric acid             0\n",
       "residual sugar          0\n",
       "chlorides               0\n",
       "free sulfur dioxide     0\n",
       "total sulfur dioxide    0\n",
       "density                 0\n",
       "pH                      0\n",
       "sulphates               0\n",
       "alcohol                 0\n",
       "quality                 0\n",
       "dtype: int64"
      ]
     },
     "execution_count": 10,
     "metadata": {},
     "output_type": "execute_result"
    }
   ],
   "source": [
    "np.sum(dados.isnull())"
   ]
  },
  {
   "cell_type": "markdown",
   "metadata": {},
   "source": [
    "### Observação das correlações entre as variáveis\n",
    "Criação de um gráfico afim de observar as correlações entre as variáveis da base de dados, ou seja, utilizada para a percepção de altas e baixas correlações para que assim seja possível a tomada de decissões acerca de por exemplo a permanência ou não de uma variável no dataset."
   ]
  },
  {
   "cell_type": "code",
   "execution_count": 11,
   "metadata": {},
   "outputs": [],
   "source": [
    "teste=dados.corr()"
   ]
  },
  {
   "cell_type": "code",
   "execution_count": 12,
   "metadata": {},
   "outputs": [],
   "source": [
    "n = teste.shape[0]\n",
    "teste.iloc[range(n),range(n)]= float('NaN')"
   ]
  },
  {
   "cell_type": "code",
   "execution_count": 13,
   "metadata": {},
   "outputs": [
    {
     "data": {
      "image/png": "[encoded data removed]",
      "text/plain": [
       "<Figure size 432x288 with 2 Axes>"
      ]
     },
     "metadata": {
      "needs_background": "light"
     },
     "output_type": "display_data"
    }
   ],
   "source": [
    "heatmap(teste);"
   ]
  },
  {
   "cell_type": "code",
   "execution_count": 14,
   "metadata": {},
   "outputs": [
    {
     "data": {
      "image/png": "[encoded data removed]",
      "text/plain": [
       "<Figure size 432x288 with 2 Axes>"
      ]
     },
     "metadata": {
      "needs_background": "light"
     },
     "output_type": "display_data"
    }
   ],
   "source": [
    "teste1=teste[(teste.abs()>0.6)&(teste<1)]\n",
    "heatmap(teste1);"
   ]
  },
  {
   "cell_type": "markdown",
   "metadata": {},
   "source": [
    "#### Função\n",
    "Realizando a função da regressão que será utilizada para gerar os summary necessários para análise das variáveis."
   ]
  },
  {
   "cell_type": "code",
   "execution_count": 15,
   "metadata": {},
   "outputs": [],
   "source": [
    "def regressao(X,Y):\n",
    "    X_cp = sm.add_constant(X)\n",
    "    model = sm.OLS(Y,X_cp)\n",
    "    results = model.fit()\n",
    "    return results"
   ]
  },
  {
   "cell_type": "markdown",
   "metadata": {},
   "source": [
    "### Limpeza de variáveis desnecessárias\n",
    "Uma correlação muito alta e um \"valor p\" também alto acabam por desgastar o bom resultado da regressão realizada, portanto, é necessário a remoção das variáveis que apresentem essas características.\n",
    "\n",
    "Diante disso, pode ser observado um alto \"valor p\" para a variável \"density\", além de uma alta correlação com a variável \"fixed acidity\", o que proporciona sua retirada da regressão, visando uma melhor acurácia ao fim do projeto.\n",
    "\n",
    "Ao comparar as correlações julgamos necessária a retirada de variáveis que apresentem uma correlação muito alta entre as mesmas, na base a ser utilizada , o mesmo ocorre para a variável \"fixed acidity\" que posssui uma correlação muito alta em relação com as variáveis \"density\", \"pH\" e principalmente com \"citric acid\". Portanto, deve ser realizada a remoção desta variável da base de dados afim de estabelecer um resultado mais congruente após a regressão.\n",
    "\n",
    "Outra simplificação cabivel é a retirada da variável \"residual suagar\" que apresenta um \"valor p\" de 0.434, sendo assim comsiderado um resultado maior que o cabível, portanto sua remoção não deve ser ignorada. \n",
    "\n",
    "Outra simplificação que não pode ser ignorada se deve a retirada da variável \"ctric acid\" que se correlaciona diretamente com a variável \"fixed acidity\" e possui um \"valor p\" acima do normal (0.288), justificando assim o abandono dessa variável para com a base de dados. "
   ]
  },
  {
   "cell_type": "code",
   "execution_count": 16,
   "metadata": {},
   "outputs": [],
   "source": [
    "def limpavar(df,varint):\n",
    "    l=[]\n",
    "    for x in df.columns:\n",
    "        if x!=varint:\n",
    "            l.append(x)\n",
    "    maiorf=1\n",
    "    while maiorf>0.1:\n",
    "        results=regressao(df[l],df[varint])\n",
    "        i=0\n",
    "        imaior=0\n",
    "        maior=0\n",
    "        while i < len(results.pvalues):\n",
    "            if results.pvalues[i]>maior:\n",
    "                maior=results.pvalues[i]\n",
    "                imaior=i\n",
    "            i+=1\n",
    "        maiorf=maior\n",
    "        if maior>0.1:\n",
    "            l.pop(imaior-1)\n",
    "    results.summary()\n",
    "    return l"
   ]
  },
  {
   "cell_type": "code",
   "execution_count": 17,
   "metadata": {},
   "outputs": [],
   "source": [
    "l1=limpavar(dados,'quality')"
   ]
  },
  {
   "cell_type": "code",
   "execution_count": 18,
   "metadata": {},
   "outputs": [],
   "source": [
    "results=regressao(dados[l1],dados['quality'])"
   ]
  },
  {
   "cell_type": "code",
   "execution_count": 19,
   "metadata": {},
   "outputs": [],
   "source": [
    "def dropcol(x,l):\n",
    "    for y in x.columns:\n",
    "        if y not in l and y!='quality':\n",
    "            x.drop(columns=[y],inplace=True)"
   ]
  },
  {
   "cell_type": "code",
   "execution_count": 20,
   "metadata": {},
   "outputs": [
    {
     "name": "stderr",
     "output_type": "stream",
     "text": [
      "C:\\Users\\User\\anaconda3\\lib\\site-packages\\pandas\\core\\frame.py:3997: SettingWithCopyWarning: \n",
      "A value is trying to be set on a copy of a slice from a DataFrame\n",
      "\n",
      "See the caveats in the documentation: https://pandas.pydata.org/pandas-docs/stable/user_guide/indexing.html#returning-a-view-versus-a-copy\n",
      "  errors=errors,\n"
     ]
    }
   ],
   "source": [
    "dropcol(dadost,l1)"
   ]
  },
  {
   "cell_type": "markdown",
   "metadata": {},
   "source": [
    "## Regressão Linear Múltipla\n",
    "A análise da regressão tem por objetivo desvendar o comportamento entre uma variável dependente e as independentes. Modelos matemáticos são capazes de explicar essa relação por meio de uma equção que correlaciona a variável dependente com as independentes. É valido resaltar que a análise da regressão não garante que as variáveis explicativas sejam a causa da variável independente.\n",
    "\n",
    "Nese caso, pode-se utilizar uma regressão linear multipla, buscando explicar a ocorrência da variável dependente em questão. \n",
    "\n",
    "Regressão múltipla é uma coleção de técnicas estatísticas para construir modelos que descrevem de maneira razoável relações entre várias variáveis explicativas de um determinado processo. A diferença entre a regressão linear simples e a múltipla é que na múltipla são tratadas duas ou mais variáveis explicativas."
   ]
  },
  {
   "cell_type": "code",
   "execution_count": 21,
   "metadata": {},
   "outputs": [],
   "source": [
    "#predict#random-forest\n",
    "def qtest(df):\n",
    "    df.reset_index(inplace=True)\n",
    "    if 'index' in df.columns:\n",
    "        df.drop(columns=['index'])\n",
    "    df['qualiteste_rlm']=results.params['const']+results.params['volatile acidity']*df['volatile acidity']\\\n",
    "                    +results.params['chlorides']*df['chlorides']\\\n",
    "                    +results.params['total sulfur dioxide']*df['total sulfur dioxide']\\\n",
    "                    +results.params['pH']*df['pH']\\\n",
    "                    +results.params['sulphates']*df['sulphates']\\\n",
    "                    +results.params['alcohol']*df['alcohol']\n"
   ]
  },
  {
   "cell_type": "code",
   "execution_count": 22,
   "metadata": {},
   "outputs": [
    {
     "name": "stderr",
     "output_type": "stream",
     "text": [
      "C:\\Users\\User\\anaconda3\\lib\\site-packages\\ipykernel_launcher.py:11: SettingWithCopyWarning: \n",
      "A value is trying to be set on a copy of a slice from a DataFrame.\n",
      "Try using .loc[row_indexer,col_indexer] = value instead\n",
      "\n",
      "See the caveats in the documentation: https://pandas.pydata.org/pandas-docs/stable/user_guide/indexing.html#returning-a-view-versus-a-copy\n",
      "  # This is added back by InteractiveShellApp.init_path()\n"
     ]
    }
   ],
   "source": [
    "qtest(dadost)"
   ]
  },
  {
   "cell_type": "markdown",
   "metadata": {},
   "source": [
    "#### Round\n",
    "Neste projeto é indispensavel a utilização do Round que disponibiliza o arredondamento de uma variável \"float\", portanto como nossos resultados gerados que foram gerados na regressão e que serão gerados no Random Forest acabam por não serem números inteiros é necessário o arredondamento deles com intuito comparativo."
   ]
  },
  {
   "cell_type": "code",
   "execution_count": 23,
   "metadata": {},
   "outputs": [],
   "source": [
    "dadost=dadost.assign(qualiround_rlm=round(dadost['qualiteste_rlm']))"
   ]
  },
  {
   "cell_type": "markdown",
   "metadata": {},
   "source": [
    "#### Quantidade de acertos e erros\n",
    "Nesta estapa realizamos a contagem de acertos e erros brutos com intuito comparativo para com eles gerar a probabilidade de acerto para a regressão multipla, ou seja, para gerar a acurácia do método utilizado."
   ]
  },
  {
   "cell_type": "code",
   "execution_count": 24,
   "metadata": {},
   "outputs": [],
   "source": [
    "def verify (df,tipo):\n",
    "    df['acertos'+tipo]=0\n",
    "    for x in range(len(dadost)):\n",
    "        if dadost['quality'][x]==dadost['qualiround'+tipo][x]:\n",
    "            dadost['acertos'+tipo][x]='ta certo'\n",
    "        else:\n",
    "            dadost['acertos'+tipo][x]='ta serto'"
   ]
  },
  {
   "cell_type": "code",
   "execution_count": 25,
   "metadata": {},
   "outputs": [
    {
     "name": "stderr",
     "output_type": "stream",
     "text": [
      "C:\\Users\\User\\anaconda3\\lib\\site-packages\\ipykernel_launcher.py:5: SettingWithCopyWarning: \n",
      "A value is trying to be set on a copy of a slice from a DataFrame\n",
      "\n",
      "See the caveats in the documentation: https://pandas.pydata.org/pandas-docs/stable/user_guide/indexing.html#returning-a-view-versus-a-copy\n",
      "  \"\"\"\n",
      "C:\\Users\\User\\anaconda3\\lib\\site-packages\\pandas\\core\\indexing.py:670: SettingWithCopyWarning: \n",
      "A value is trying to be set on a copy of a slice from a DataFrame\n",
      "\n",
      "See the caveats in the documentation: https://pandas.pydata.org/pandas-docs/stable/user_guide/indexing.html#returning-a-view-versus-a-copy\n",
      "  self._setitem_with_indexer(indexer, value)\n",
      "C:\\Users\\User\\anaconda3\\lib\\site-packages\\ipykernel_launcher.py:7: SettingWithCopyWarning: \n",
      "A value is trying to be set on a copy of a slice from a DataFrame\n",
      "\n",
      "See the caveats in the documentation: https://pandas.pydata.org/pandas-docs/stable/user_guide/indexing.html#returning-a-view-versus-a-copy\n",
      "  import sys\n"
     ]
    }
   ],
   "source": [
    "verify(dadost,'_rlm')"
   ]
  },
  {
   "cell_type": "code",
   "execution_count": 26,
   "metadata": {},
   "outputs": [
    {
     "data": {
      "text/html": [
       "<div>\n",
       "<style scoped>\n",
       "    .dataframe tbody tr th:only-of-type {\n",
       "        vertical-align: middle;\n",
       "    }\n",
       "\n",
       "    .dataframe tbody tr th {\n",
       "        vertical-align: top;\n",
       "    }\n",
       "\n",
       "    .dataframe thead th {\n",
       "        text-align: right;\n",
       "    }\n",
       "</style>\n",
       "<table border=\"1\" class=\"dataframe\">\n",
       "  <thead>\n",
       "    <tr style=\"text-align: right;\">\n",
       "      <th></th>\n",
       "      <th>index</th>\n",
       "      <th>volatile acidity</th>\n",
       "      <th>chlorides</th>\n",
       "      <th>total sulfur dioxide</th>\n",
       "      <th>pH</th>\n",
       "      <th>sulphates</th>\n",
       "      <th>alcohol</th>\n",
       "      <th>quality</th>\n",
       "      <th>qualiteste_rlm</th>\n",
       "      <th>qualiround_rlm</th>\n",
       "      <th>acertos_rlm</th>\n",
       "    </tr>\n",
       "  </thead>\n",
       "  <tbody>\n",
       "    <tr>\n",
       "      <th>0</th>\n",
       "      <td>1192</td>\n",
       "      <td>0.250</td>\n",
       "      <td>0.063</td>\n",
       "      <td>41.0</td>\n",
       "      <td>3.52</td>\n",
       "      <td>0.80</td>\n",
       "      <td>12.4</td>\n",
       "      <td>7</td>\n",
       "      <td>6.637135</td>\n",
       "      <td>7.0</td>\n",
       "      <td>ta certo</td>\n",
       "    </tr>\n",
       "    <tr>\n",
       "      <th>1</th>\n",
       "      <td>1193</td>\n",
       "      <td>0.885</td>\n",
       "      <td>0.166</td>\n",
       "      <td>12.0</td>\n",
       "      <td>3.56</td>\n",
       "      <td>0.51</td>\n",
       "      <td>10.8</td>\n",
       "      <td>5</td>\n",
       "      <td>5.180584</td>\n",
       "      <td>5.0</td>\n",
       "      <td>ta certo</td>\n",
       "    </tr>\n",
       "    <tr>\n",
       "      <th>2</th>\n",
       "      <td>1194</td>\n",
       "      <td>0.745</td>\n",
       "      <td>0.114</td>\n",
       "      <td>64.0</td>\n",
       "      <td>3.22</td>\n",
       "      <td>0.59</td>\n",
       "      <td>9.5</td>\n",
       "      <td>6</td>\n",
       "      <td>5.035882</td>\n",
       "      <td>5.0</td>\n",
       "      <td>ta serto</td>\n",
       "    </tr>\n",
       "    <tr>\n",
       "      <th>3</th>\n",
       "      <td>1195</td>\n",
       "      <td>0.430</td>\n",
       "      <td>0.078</td>\n",
       "      <td>56.0</td>\n",
       "      <td>3.52</td>\n",
       "      <td>0.60</td>\n",
       "      <td>9.5</td>\n",
       "      <td>6</td>\n",
       "      <td>5.345183</td>\n",
       "      <td>5.0</td>\n",
       "      <td>ta serto</td>\n",
       "    </tr>\n",
       "    <tr>\n",
       "      <th>4</th>\n",
       "      <td>1196</td>\n",
       "      <td>0.580</td>\n",
       "      <td>0.076</td>\n",
       "      <td>94.0</td>\n",
       "      <td>3.21</td>\n",
       "      <td>0.58</td>\n",
       "      <td>9.5</td>\n",
       "      <td>6</td>\n",
       "      <td>5.177851</td>\n",
       "      <td>5.0</td>\n",
       "      <td>ta serto</td>\n",
       "    </tr>\n",
       "  </tbody>\n",
       "</table>\n",
       "</div>"
      ],
      "text/plain": [
       "   index  volatile acidity  chlorides  total sulfur dioxide    pH  sulphates  \\\n",
       "0   1192             0.250      0.063                  41.0  3.52       0.80   \n",
       "1   1193             0.885      0.166                  12.0  3.56       0.51   \n",
       "2   1194             0.745      0.114                  64.0  3.22       0.59   \n",
       "3   1195             0.430      0.078                  56.0  3.52       0.60   \n",
       "4   1196             0.580      0.076                  94.0  3.21       0.58   \n",
       "\n",
       "   alcohol  quality  qualiteste_rlm  qualiround_rlm acertos_rlm  \n",
       "0     12.4        7        6.637135             7.0    ta certo  \n",
       "1     10.8        5        5.180584             5.0    ta certo  \n",
       "2      9.5        6        5.035882             5.0    ta serto  \n",
       "3      9.5        6        5.345183             5.0    ta serto  \n",
       "4      9.5        6        5.177851             5.0    ta serto  "
      ]
     },
     "execution_count": 26,
     "metadata": {},
     "output_type": "execute_result"
    }
   ],
   "source": [
    "dadost.head()"
   ]
  },
  {
   "cell_type": "markdown",
   "metadata": {},
   "source": [
    "### Desvio Padrão \n",
    "Foi realizado abaixo uma função que acaba por apresentar uma tolerância maior sobre os erros tanto na regressão quanto no arredondamento dos \"outputs\". Dessa forma, a função acaba por considerar um valor com diferença de até 1 do valor correspondente considerando este um acerto e não mais um erro.\n",
    "\n",
    "Por exemplo, se um dos outputs observado foi de uma qualidade originária de nota 5 e o resultado após a regressão foi uma nota 6 ou 4 este resultado será considerado como um acerto e não mais como um erro, como considerado na função acima.\n",
    "\n",
    "Tem como objetivo esta etapa gerar uma tolêrancia maior aos resultados obtidos pela regressão e também observar se os erros contemplados anteriormente sem o desvio padrão são erros que são coerentes e não muito distantes da nota original ou se são erros completamentes abruptus e muito distantes do valor real, portanto, como observamos que como a quntidade de erros utilizando o desvio padrão acaba por ficar bem menor consideramos que os erros estão controlados e dentro do normal."
   ]
  },
  {
   "cell_type": "code",
   "execution_count": 27,
   "metadata": {},
   "outputs": [],
   "source": [
    "def tolerancia(df,tipo):  \n",
    "    df['+-1'+tipo]=0\n",
    "    for x in range(len(dadost)):\n",
    "        if math.ceil(df['qualiteste'+tipo][x])==df['quality'][x] or math.floor(df['qualiteste'+tipo][x])==df['quality'][x]:\n",
    "            dadost['+-1'+tipo][x]='ta certo'\n",
    "        else:\n",
    "            dadost['+-1'+tipo][x]='ta serto'"
   ]
  },
  {
   "cell_type": "code",
   "execution_count": 28,
   "metadata": {},
   "outputs": [
    {
     "name": "stderr",
     "output_type": "stream",
     "text": [
      "C:\\Users\\User\\anaconda3\\lib\\site-packages\\ipykernel_launcher.py:5: SettingWithCopyWarning: \n",
      "A value is trying to be set on a copy of a slice from a DataFrame\n",
      "\n",
      "See the caveats in the documentation: https://pandas.pydata.org/pandas-docs/stable/user_guide/indexing.html#returning-a-view-versus-a-copy\n",
      "  \"\"\"\n",
      "C:\\Users\\User\\anaconda3\\lib\\site-packages\\pandas\\core\\indexing.py:670: SettingWithCopyWarning: \n",
      "A value is trying to be set on a copy of a slice from a DataFrame\n",
      "\n",
      "See the caveats in the documentation: https://pandas.pydata.org/pandas-docs/stable/user_guide/indexing.html#returning-a-view-versus-a-copy\n",
      "  self._setitem_with_indexer(indexer, value)\n",
      "C:\\Users\\User\\anaconda3\\lib\\site-packages\\ipykernel_launcher.py:7: SettingWithCopyWarning: \n",
      "A value is trying to be set on a copy of a slice from a DataFrame\n",
      "\n",
      "See the caveats in the documentation: https://pandas.pydata.org/pandas-docs/stable/user_guide/indexing.html#returning-a-view-versus-a-copy\n",
      "  import sys\n"
     ]
    }
   ],
   "source": [
    "tolerancia(dadost,'_rlm')"
   ]
  },
  {
   "cell_type": "markdown",
   "metadata": {},
   "source": [
    "### Classificando arredondamentos\n",
    "Como foi observado, neste projeto é indispensável o arredondamento dos \"outputs\" reproduzidos para qualquer método de presição utilizado, porém desta forma acaba-se por ser neessário realizar arredondamentos mais \"claros\" do que outros. Dessa maneira classificamos os arredondamentos de três maneiras os arredondamentos de clareza \"alta\", \"média\" e \"baixa\".\n",
    "\n",
    "Um arredondamento \"fácil\" seria um arredondamneto que está mais perto do valor do número inteiro, como por exemplo os números 5.01 e 7.98. Estes valores estão bem perto dos respectivos números 5 e 8, portanto serão considerados como um arredondamento de certeza \"alta\".\n",
    "\n",
    "Um arredondamento \"médio\" seria um arredondamneto que está mais ou menos perto do valor do número inteiro, como por exemplo os números 5.3 e 7.82. Estes valores estão a uma dsitância razoavel dos respectivos números 5 e 8, mas ainda são arredondamentos simples que são facilmente observados, portanto serão considerados como um arredondamento de certeza \"média\".\n",
    "\n",
    "Um arredondamento \"dificíl\" seria um arredondamneto que está mais longe do valor do número inteiro, como por exemplo os números 5.52 e 7.5. Estes valores estão bem longe dos respectivos números 5 e 8 e podem ser facilmente confundidos seus arredondamentos, portanto serão considerados como um arredondamento de certeza \"baixa\"."
   ]
  },
  {
   "cell_type": "code",
   "execution_count": 29,
   "metadata": {},
   "outputs": [],
   "source": [
    "def certeza_de_arredondamento(df, tipo):\n",
    "    df['certeza'+tipo]=0\n",
    "    for x in range(len(df)):\n",
    "        if abs(df['qualiround'+tipo][x]-df['qualiteste'+tipo][x])>(2*.5/3)  :\n",
    "            df['certeza'+tipo][x]='baixa'\n",
    "        elif abs(df['qualiround'+tipo][x]-df['qualiteste'+tipo][x])>(.5/3):\n",
    "            df['certeza'+tipo][x]='média'\n",
    "        else: \n",
    "            df['certeza'+tipo][x]='alta'"
   ]
  },
  {
   "cell_type": "code",
   "execution_count": 30,
   "metadata": {},
   "outputs": [
    {
     "name": "stderr",
     "output_type": "stream",
     "text": [
      "C:\\Users\\User\\anaconda3\\lib\\site-packages\\ipykernel_launcher.py:5: SettingWithCopyWarning: \n",
      "A value is trying to be set on a copy of a slice from a DataFrame\n",
      "\n",
      "See the caveats in the documentation: https://pandas.pydata.org/pandas-docs/stable/user_guide/indexing.html#returning-a-view-versus-a-copy\n",
      "  \"\"\"\n",
      "C:\\Users\\User\\anaconda3\\lib\\site-packages\\ipykernel_launcher.py:7: SettingWithCopyWarning: \n",
      "A value is trying to be set on a copy of a slice from a DataFrame\n",
      "\n",
      "See the caveats in the documentation: https://pandas.pydata.org/pandas-docs/stable/user_guide/indexing.html#returning-a-view-versus-a-copy\n",
      "  import sys\n",
      "C:\\Users\\User\\anaconda3\\lib\\site-packages\\ipykernel_launcher.py:9: SettingWithCopyWarning: \n",
      "A value is trying to be set on a copy of a slice from a DataFrame\n",
      "\n",
      "See the caveats in the documentation: https://pandas.pydata.org/pandas-docs/stable/user_guide/indexing.html#returning-a-view-versus-a-copy\n",
      "  if __name__ == '__main__':\n"
     ]
    }
   ],
   "source": [
    "certeza_de_arredondamento(dadost,'_rlm')"
   ]
  },
  {
   "cell_type": "code",
   "execution_count": 31,
   "metadata": {},
   "outputs": [
    {
     "data": {
      "text/html": [
       "<div>\n",
       "<style scoped>\n",
       "    .dataframe tbody tr th:only-of-type {\n",
       "        vertical-align: middle;\n",
       "    }\n",
       "\n",
       "    .dataframe tbody tr th {\n",
       "        vertical-align: top;\n",
       "    }\n",
       "\n",
       "    .dataframe thead th {\n",
       "        text-align: right;\n",
       "    }\n",
       "</style>\n",
       "<table border=\"1\" class=\"dataframe\">\n",
       "  <thead>\n",
       "    <tr style=\"text-align: right;\">\n",
       "      <th></th>\n",
       "      <th>index</th>\n",
       "      <th>volatile acidity</th>\n",
       "      <th>chlorides</th>\n",
       "      <th>total sulfur dioxide</th>\n",
       "      <th>pH</th>\n",
       "      <th>sulphates</th>\n",
       "      <th>alcohol</th>\n",
       "      <th>quality</th>\n",
       "      <th>qualiteste_rlm</th>\n",
       "      <th>qualiround_rlm</th>\n",
       "      <th>acertos_rlm</th>\n",
       "      <th>+-1_rlm</th>\n",
       "      <th>certeza_rlm</th>\n",
       "    </tr>\n",
       "  </thead>\n",
       "  <tbody>\n",
       "    <tr>\n",
       "      <th>0</th>\n",
       "      <td>1192</td>\n",
       "      <td>0.250</td>\n",
       "      <td>0.063</td>\n",
       "      <td>41.0</td>\n",
       "      <td>3.52</td>\n",
       "      <td>0.80</td>\n",
       "      <td>12.4</td>\n",
       "      <td>7</td>\n",
       "      <td>6.637135</td>\n",
       "      <td>7.0</td>\n",
       "      <td>ta certo</td>\n",
       "      <td>ta certo</td>\n",
       "      <td>baixa</td>\n",
       "    </tr>\n",
       "    <tr>\n",
       "      <th>1</th>\n",
       "      <td>1193</td>\n",
       "      <td>0.885</td>\n",
       "      <td>0.166</td>\n",
       "      <td>12.0</td>\n",
       "      <td>3.56</td>\n",
       "      <td>0.51</td>\n",
       "      <td>10.8</td>\n",
       "      <td>5</td>\n",
       "      <td>5.180584</td>\n",
       "      <td>5.0</td>\n",
       "      <td>ta certo</td>\n",
       "      <td>ta certo</td>\n",
       "      <td>média</td>\n",
       "    </tr>\n",
       "    <tr>\n",
       "      <th>2</th>\n",
       "      <td>1194</td>\n",
       "      <td>0.745</td>\n",
       "      <td>0.114</td>\n",
       "      <td>64.0</td>\n",
       "      <td>3.22</td>\n",
       "      <td>0.59</td>\n",
       "      <td>9.5</td>\n",
       "      <td>6</td>\n",
       "      <td>5.035882</td>\n",
       "      <td>5.0</td>\n",
       "      <td>ta serto</td>\n",
       "      <td>ta certo</td>\n",
       "      <td>alta</td>\n",
       "    </tr>\n",
       "    <tr>\n",
       "      <th>3</th>\n",
       "      <td>1195</td>\n",
       "      <td>0.430</td>\n",
       "      <td>0.078</td>\n",
       "      <td>56.0</td>\n",
       "      <td>3.52</td>\n",
       "      <td>0.60</td>\n",
       "      <td>9.5</td>\n",
       "      <td>6</td>\n",
       "      <td>5.345183</td>\n",
       "      <td>5.0</td>\n",
       "      <td>ta serto</td>\n",
       "      <td>ta certo</td>\n",
       "      <td>baixa</td>\n",
       "    </tr>\n",
       "    <tr>\n",
       "      <th>4</th>\n",
       "      <td>1196</td>\n",
       "      <td>0.580</td>\n",
       "      <td>0.076</td>\n",
       "      <td>94.0</td>\n",
       "      <td>3.21</td>\n",
       "      <td>0.58</td>\n",
       "      <td>9.5</td>\n",
       "      <td>6</td>\n",
       "      <td>5.177851</td>\n",
       "      <td>5.0</td>\n",
       "      <td>ta serto</td>\n",
       "      <td>ta certo</td>\n",
       "      <td>média</td>\n",
       "    </tr>\n",
       "  </tbody>\n",
       "</table>\n",
       "</div>"
      ],
      "text/plain": [
       "   index  volatile acidity  chlorides  total sulfur dioxide    pH  sulphates  \\\n",
       "0   1192             0.250      0.063                  41.0  3.52       0.80   \n",
       "1   1193             0.885      0.166                  12.0  3.56       0.51   \n",
       "2   1194             0.745      0.114                  64.0  3.22       0.59   \n",
       "3   1195             0.430      0.078                  56.0  3.52       0.60   \n",
       "4   1196             0.580      0.076                  94.0  3.21       0.58   \n",
       "\n",
       "   alcohol  quality  qualiteste_rlm  qualiround_rlm acertos_rlm   +-1_rlm  \\\n",
       "0     12.4        7        6.637135             7.0    ta certo  ta certo   \n",
       "1     10.8        5        5.180584             5.0    ta certo  ta certo   \n",
       "2      9.5        6        5.035882             5.0    ta serto  ta certo   \n",
       "3      9.5        6        5.345183             5.0    ta serto  ta certo   \n",
       "4      9.5        6        5.177851             5.0    ta serto  ta certo   \n",
       "\n",
       "  certeza_rlm  \n",
       "0       baixa  \n",
       "1       média  \n",
       "2        alta  \n",
       "3       baixa  \n",
       "4       média  "
      ]
     },
     "execution_count": 31,
     "metadata": {},
     "output_type": "execute_result"
    }
   ],
   "source": [
    "dadost.head()"
   ]
  },
  {
   "cell_type": "markdown",
   "metadata": {},
   "source": [
    "### Acurácias\n",
    "Aqui medimos o quão coerente é o nosso método de predição, observando a probabilidade de acertos que o método obteve. Neste caso, foi utilizado a regressão multipla que portanto está gerando uma acurácia de 62.07% e uma acurácia de 86.21% com a tolerância."
   ]
  },
  {
   "cell_type": "code",
   "execution_count": 32,
   "metadata": {},
   "outputs": [],
   "source": [
    "def precisao(df,tipo, txt):\n",
    "    ac = df['acertos'+tipo].value_counts()\n",
    "    precisão=ac['ta certo']/ac.sum()\n",
    "    print('Precisão da regressão '+txt+':',round(float(precisão*100),2),'%')"
   ]
  },
  {
   "cell_type": "code",
   "execution_count": 33,
   "metadata": {},
   "outputs": [
    {
     "name": "stdout",
     "output_type": "stream",
     "text": [
      "Precisão da regressão linear múltipla: 62.07 %\n"
     ]
    }
   ],
   "source": [
    "precisao(dadost,'_rlm','linear múltipla')"
   ]
  },
  {
   "cell_type": "code",
   "execution_count": 34,
   "metadata": {},
   "outputs": [],
   "source": [
    "def tolerancia_count(df,tipo):\n",
    "    tol=dadost['+-1'+tipo].value_counts()\n",
    "    tolerância_de_1_estrela=tol['ta certo']/tol.sum()\n",
    "    print('Com tolerância aumentada para +-1 estrela :',round(float(tolerância_de_1_estrela*100),2),'%')"
   ]
  },
  {
   "cell_type": "code",
   "execution_count": 35,
   "metadata": {},
   "outputs": [
    {
     "name": "stderr",
     "output_type": "stream",
     "text": [
      "C:\\Users\\User\\anaconda3\\lib\\site-packages\\ipykernel_launcher.py:5: SettingWithCopyWarning: \n",
      "A value is trying to be set on a copy of a slice from a DataFrame\n",
      "\n",
      "See the caveats in the documentation: https://pandas.pydata.org/pandas-docs/stable/user_guide/indexing.html#returning-a-view-versus-a-copy\n",
      "  \"\"\"\n",
      "C:\\Users\\User\\anaconda3\\lib\\site-packages\\pandas\\core\\indexing.py:670: SettingWithCopyWarning: \n",
      "A value is trying to be set on a copy of a slice from a DataFrame\n",
      "\n",
      "See the caveats in the documentation: https://pandas.pydata.org/pandas-docs/stable/user_guide/indexing.html#returning-a-view-versus-a-copy\n",
      "  self._setitem_with_indexer(indexer, value)\n",
      "C:\\Users\\User\\anaconda3\\lib\\site-packages\\ipykernel_launcher.py:7: SettingWithCopyWarning: \n",
      "A value is trying to be set on a copy of a slice from a DataFrame\n",
      "\n",
      "See the caveats in the documentation: https://pandas.pydata.org/pandas-docs/stable/user_guide/indexing.html#returning-a-view-versus-a-copy\n",
      "  import sys\n"
     ]
    }
   ],
   "source": [
    "tolerancia(dadost,'_rlm')"
   ]
  },
  {
   "cell_type": "code",
   "execution_count": 36,
   "metadata": {},
   "outputs": [],
   "source": [
    "baixa=dadost.loc[dadost['certeza_rlm']=='baixa']\n",
    "media=dadost.loc[dadost['certeza_rlm']=='média']\n",
    "alta=dadost.loc[dadost['certeza_rlm']=='alta']"
   ]
  },
  {
   "cell_type": "markdown",
   "metadata": {},
   "source": [
    "###### Acertos e erros considerando o nível de certeza do arredondamento \"baixa\""
   ]
  },
  {
   "cell_type": "code",
   "execution_count": 37,
   "metadata": {},
   "outputs": [
    {
     "name": "stdout",
     "output_type": "stream",
     "text": [
      "Probabilidade de acerto para certeza baixa: 59.52 %\n"
     ]
    }
   ],
   "source": [
    "bx=baixa['acertos_rlm'].value_counts()\n",
    "print('Probabilidade de acerto para certeza baixa:',round((bx['ta certo']/bx.sum())*100,2),'%')"
   ]
  },
  {
   "cell_type": "markdown",
   "metadata": {},
   "source": [
    "###### Acertos e erros considerando o nível de certeza do arredondamento \"média\""
   ]
  },
  {
   "cell_type": "code",
   "execution_count": 38,
   "metadata": {},
   "outputs": [
    {
     "name": "stdout",
     "output_type": "stream",
     "text": [
      "Probabilidade de acerto para certeza média: 62.9 %\n"
     ]
    }
   ],
   "source": [
    "md=media['acertos_rlm'].value_counts()\n",
    "print('Probabilidade de acerto para certeza média:',round((md['ta certo']/md.sum())*100,2),'%')"
   ]
  },
  {
   "cell_type": "markdown",
   "metadata": {},
   "source": [
    "###### Acertos e erros considerando o nível de certeza do arredondamento \"alta\""
   ]
  },
  {
   "cell_type": "code",
   "execution_count": 39,
   "metadata": {},
   "outputs": [
    {
     "name": "stdout",
     "output_type": "stream",
     "text": [
      "Probabilidade de acerto para certeza alta: 64.29 %\n"
     ]
    }
   ],
   "source": [
    "at=alta['acertos_rlm'].value_counts()\n",
    "print('Probabilidade de acerto para certeza alta:',round((at['ta certo']/bx.sum())*100,2),'%')"
   ]
  },
  {
   "cell_type": "markdown",
   "metadata": {},
   "source": [
    "## Random Forest\n",
    "\n",
    "Random Forest significa floresta aleatória. Este nome explica muito bem o funcionamento do algoritmo, que irá criar muitas árvores de decisão, de maneira aleatória, formando o que podemos enxergar como uma floresta, onde cada árvore será utilizada na escolha do resultado final.\n",
    "\n",
    "###### Árvores de Decisão (Decision Trees)\n",
    "\n",
    "As Árvores de Decisão, ou Decision Trees, estabelecem regras para tomada de decisão. O algoritmo criará uma estrutura similar a um fluxograma, com \"nós\" onde uma condição é verificada, e se atendida o fluxo segue por um ramo, caso contrário, por outro, sempre levando ao próximo nó, até a finalização da árvore. Com os dados de treino, o algoritmo busca as melhores condições, e onde inserir cada uma dentro do fluxo."
   ]
  },
  {
   "cell_type": "code",
   "execution_count": 40,
   "metadata": {},
   "outputs": [
    {
     "data": {
      "text/plain": [
       "RandomForestRegressor(bootstrap=True, ccp_alpha=0.0, criterion='mse',\n",
       "                      max_depth=None, max_features='auto', max_leaf_nodes=None,\n",
       "                      max_samples=None, min_impurity_decrease=0.0,\n",
       "                      min_impurity_split=None, min_samples_leaf=1,\n",
       "                      min_samples_split=2, min_weight_fraction_leaf=0.0,\n",
       "                      n_estimators=1000, n_jobs=None, oob_score=False,\n",
       "                      random_state=42, verbose=0, warm_start=False)"
      ]
     },
     "execution_count": 40,
     "metadata": {},
     "output_type": "execute_result"
    }
   ],
   "source": [
    "rf = RandomForestRegressor(n_estimators = 1000, random_state = 42)\n",
    "rf.fit(dados[l1],dados['quality'])"
   ]
  },
  {
   "cell_type": "code",
   "execution_count": 41,
   "metadata": {},
   "outputs": [],
   "source": [
    "pred= rf.predict(dadost[l1])"
   ]
  },
  {
   "cell_type": "code",
   "execution_count": 42,
   "metadata": {},
   "outputs": [],
   "source": [
    "dadost['qualiteste_rf']=0\n",
    "dadost=dadost.assign(qualiteste_rf=pred)"
   ]
  },
  {
   "cell_type": "markdown",
   "metadata": {},
   "source": [
    "##### Round"
   ]
  },
  {
   "cell_type": "code",
   "execution_count": 43,
   "metadata": {},
   "outputs": [],
   "source": [
    "dadost=dadost.assign(qualiround_rf=round(dadost['qualiteste_rf']))"
   ]
  },
  {
   "cell_type": "code",
   "execution_count": 44,
   "metadata": {},
   "outputs": [
    {
     "name": "stderr",
     "output_type": "stream",
     "text": [
      "C:\\Users\\User\\anaconda3\\lib\\site-packages\\ipykernel_launcher.py:5: SettingWithCopyWarning: \n",
      "A value is trying to be set on a copy of a slice from a DataFrame\n",
      "\n",
      "See the caveats in the documentation: https://pandas.pydata.org/pandas-docs/stable/user_guide/indexing.html#returning-a-view-versus-a-copy\n",
      "  \"\"\"\n",
      "C:\\Users\\User\\anaconda3\\lib\\site-packages\\pandas\\core\\indexing.py:670: SettingWithCopyWarning: \n",
      "A value is trying to be set on a copy of a slice from a DataFrame\n",
      "\n",
      "See the caveats in the documentation: https://pandas.pydata.org/pandas-docs/stable/user_guide/indexing.html#returning-a-view-versus-a-copy\n",
      "  self._setitem_with_indexer(indexer, value)\n",
      "C:\\Users\\User\\anaconda3\\lib\\site-packages\\ipykernel_launcher.py:7: SettingWithCopyWarning: \n",
      "A value is trying to be set on a copy of a slice from a DataFrame\n",
      "\n",
      "See the caveats in the documentation: https://pandas.pydata.org/pandas-docs/stable/user_guide/indexing.html#returning-a-view-versus-a-copy\n",
      "  import sys\n"
     ]
    }
   ],
   "source": [
    "verify(dadost, '_rf')"
   ]
  },
  {
   "cell_type": "markdown",
   "metadata": {},
   "source": [
    "#### Desvio Padrão\n",
    "O mesmo desvio padrão utilizado na regressão, porém agora para o Random Forest."
   ]
  },
  {
   "cell_type": "code",
   "execution_count": 45,
   "metadata": {},
   "outputs": [
    {
     "name": "stderr",
     "output_type": "stream",
     "text": [
      "C:\\Users\\User\\anaconda3\\lib\\site-packages\\ipykernel_launcher.py:5: SettingWithCopyWarning: \n",
      "A value is trying to be set on a copy of a slice from a DataFrame\n",
      "\n",
      "See the caveats in the documentation: https://pandas.pydata.org/pandas-docs/stable/user_guide/indexing.html#returning-a-view-versus-a-copy\n",
      "  \"\"\"\n",
      "C:\\Users\\User\\anaconda3\\lib\\site-packages\\ipykernel_launcher.py:7: SettingWithCopyWarning: \n",
      "A value is trying to be set on a copy of a slice from a DataFrame\n",
      "\n",
      "See the caveats in the documentation: https://pandas.pydata.org/pandas-docs/stable/user_guide/indexing.html#returning-a-view-versus-a-copy\n",
      "  import sys\n"
     ]
    }
   ],
   "source": [
    "tolerancia(dadost,'_rf')"
   ]
  },
  {
   "cell_type": "markdown",
   "metadata": {},
   "source": [
    "#### Classificando arredondamentos\n",
    "A mesma classificação utilizada na regressão, porém agora para o Random Forest."
   ]
  },
  {
   "cell_type": "code",
   "execution_count": 46,
   "metadata": {},
   "outputs": [
    {
     "name": "stderr",
     "output_type": "stream",
     "text": [
      "C:\\Users\\User\\anaconda3\\lib\\site-packages\\ipykernel_launcher.py:7: SettingWithCopyWarning: \n",
      "A value is trying to be set on a copy of a slice from a DataFrame\n",
      "\n",
      "See the caveats in the documentation: https://pandas.pydata.org/pandas-docs/stable/user_guide/indexing.html#returning-a-view-versus-a-copy\n",
      "  import sys\n",
      "C:\\Users\\User\\anaconda3\\lib\\site-packages\\ipykernel_launcher.py:9: SettingWithCopyWarning: \n",
      "A value is trying to be set on a copy of a slice from a DataFrame\n",
      "\n",
      "See the caveats in the documentation: https://pandas.pydata.org/pandas-docs/stable/user_guide/indexing.html#returning-a-view-versus-a-copy\n",
      "  if __name__ == '__main__':\n",
      "C:\\Users\\User\\anaconda3\\lib\\site-packages\\ipykernel_launcher.py:5: SettingWithCopyWarning: \n",
      "A value is trying to be set on a copy of a slice from a DataFrame\n",
      "\n",
      "See the caveats in the documentation: https://pandas.pydata.org/pandas-docs/stable/user_guide/indexing.html#returning-a-view-versus-a-copy\n",
      "  \"\"\"\n"
     ]
    }
   ],
   "source": [
    "certeza_de_arredondamento(dadost, '_rf')"
   ]
  },
  {
   "cell_type": "code",
   "execution_count": 47,
   "metadata": {},
   "outputs": [
    {
     "data": {
      "text/html": [
       "<div>\n",
       "<style scoped>\n",
       "    .dataframe tbody tr th:only-of-type {\n",
       "        vertical-align: middle;\n",
       "    }\n",
       "\n",
       "    .dataframe tbody tr th {\n",
       "        vertical-align: top;\n",
       "    }\n",
       "\n",
       "    .dataframe thead th {\n",
       "        text-align: right;\n",
       "    }\n",
       "</style>\n",
       "<table border=\"1\" class=\"dataframe\">\n",
       "  <thead>\n",
       "    <tr style=\"text-align: right;\">\n",
       "      <th></th>\n",
       "      <th>index</th>\n",
       "      <th>volatile acidity</th>\n",
       "      <th>chlorides</th>\n",
       "      <th>total sulfur dioxide</th>\n",
       "      <th>pH</th>\n",
       "      <th>sulphates</th>\n",
       "      <th>alcohol</th>\n",
       "      <th>quality</th>\n",
       "      <th>qualiteste_rlm</th>\n",
       "      <th>qualiround_rlm</th>\n",
       "      <th>acertos_rlm</th>\n",
       "      <th>+-1_rlm</th>\n",
       "      <th>certeza_rlm</th>\n",
       "      <th>qualiteste_rf</th>\n",
       "      <th>qualiround_rf</th>\n",
       "      <th>acertos_rf</th>\n",
       "      <th>+-1_rf</th>\n",
       "      <th>certeza_rf</th>\n",
       "    </tr>\n",
       "  </thead>\n",
       "  <tbody>\n",
       "    <tr>\n",
       "      <th>0</th>\n",
       "      <td>1192</td>\n",
       "      <td>0.250</td>\n",
       "      <td>0.063</td>\n",
       "      <td>41.0</td>\n",
       "      <td>3.52</td>\n",
       "      <td>0.80</td>\n",
       "      <td>12.4</td>\n",
       "      <td>7</td>\n",
       "      <td>6.637135</td>\n",
       "      <td>7.0</td>\n",
       "      <td>ta certo</td>\n",
       "      <td>ta certo</td>\n",
       "      <td>baixa</td>\n",
       "      <td>6.721</td>\n",
       "      <td>7.0</td>\n",
       "      <td>ta certo</td>\n",
       "      <td>ta certo</td>\n",
       "      <td>média</td>\n",
       "    </tr>\n",
       "    <tr>\n",
       "      <th>1</th>\n",
       "      <td>1193</td>\n",
       "      <td>0.885</td>\n",
       "      <td>0.166</td>\n",
       "      <td>12.0</td>\n",
       "      <td>3.56</td>\n",
       "      <td>0.51</td>\n",
       "      <td>10.8</td>\n",
       "      <td>5</td>\n",
       "      <td>5.180584</td>\n",
       "      <td>5.0</td>\n",
       "      <td>ta certo</td>\n",
       "      <td>ta certo</td>\n",
       "      <td>média</td>\n",
       "      <td>4.880</td>\n",
       "      <td>5.0</td>\n",
       "      <td>ta certo</td>\n",
       "      <td>ta certo</td>\n",
       "      <td>alta</td>\n",
       "    </tr>\n",
       "    <tr>\n",
       "      <th>2</th>\n",
       "      <td>1194</td>\n",
       "      <td>0.745</td>\n",
       "      <td>0.114</td>\n",
       "      <td>64.0</td>\n",
       "      <td>3.22</td>\n",
       "      <td>0.59</td>\n",
       "      <td>9.5</td>\n",
       "      <td>6</td>\n",
       "      <td>5.035882</td>\n",
       "      <td>5.0</td>\n",
       "      <td>ta serto</td>\n",
       "      <td>ta certo</td>\n",
       "      <td>alta</td>\n",
       "      <td>5.010</td>\n",
       "      <td>5.0</td>\n",
       "      <td>ta serto</td>\n",
       "      <td>ta certo</td>\n",
       "      <td>alta</td>\n",
       "    </tr>\n",
       "    <tr>\n",
       "      <th>3</th>\n",
       "      <td>1195</td>\n",
       "      <td>0.430</td>\n",
       "      <td>0.078</td>\n",
       "      <td>56.0</td>\n",
       "      <td>3.52</td>\n",
       "      <td>0.60</td>\n",
       "      <td>9.5</td>\n",
       "      <td>6</td>\n",
       "      <td>5.345183</td>\n",
       "      <td>5.0</td>\n",
       "      <td>ta serto</td>\n",
       "      <td>ta certo</td>\n",
       "      <td>baixa</td>\n",
       "      <td>5.358</td>\n",
       "      <td>5.0</td>\n",
       "      <td>ta serto</td>\n",
       "      <td>ta certo</td>\n",
       "      <td>baixa</td>\n",
       "    </tr>\n",
       "    <tr>\n",
       "      <th>4</th>\n",
       "      <td>1196</td>\n",
       "      <td>0.580</td>\n",
       "      <td>0.076</td>\n",
       "      <td>94.0</td>\n",
       "      <td>3.21</td>\n",
       "      <td>0.58</td>\n",
       "      <td>9.5</td>\n",
       "      <td>6</td>\n",
       "      <td>5.177851</td>\n",
       "      <td>5.0</td>\n",
       "      <td>ta serto</td>\n",
       "      <td>ta certo</td>\n",
       "      <td>média</td>\n",
       "      <td>5.049</td>\n",
       "      <td>5.0</td>\n",
       "      <td>ta serto</td>\n",
       "      <td>ta certo</td>\n",
       "      <td>alta</td>\n",
       "    </tr>\n",
       "  </tbody>\n",
       "</table>\n",
       "</div>"
      ],
      "text/plain": [
       "   index  volatile acidity  chlorides  total sulfur dioxide    pH  sulphates  \\\n",
       "0   1192             0.250      0.063                  41.0  3.52       0.80   \n",
       "1   1193             0.885      0.166                  12.0  3.56       0.51   \n",
       "2   1194             0.745      0.114                  64.0  3.22       0.59   \n",
       "3   1195             0.430      0.078                  56.0  3.52       0.60   \n",
       "4   1196             0.580      0.076                  94.0  3.21       0.58   \n",
       "\n",
       "   alcohol  quality  qualiteste_rlm  qualiround_rlm acertos_rlm   +-1_rlm  \\\n",
       "0     12.4        7        6.637135             7.0    ta certo  ta certo   \n",
       "1     10.8        5        5.180584             5.0    ta certo  ta certo   \n",
       "2      9.5        6        5.035882             5.0    ta serto  ta certo   \n",
       "3      9.5        6        5.345183             5.0    ta serto  ta certo   \n",
       "4      9.5        6        5.177851             5.0    ta serto  ta certo   \n",
       "\n",
       "  certeza_rlm  qualiteste_rf  qualiround_rf acertos_rf    +-1_rf certeza_rf  \n",
       "0       baixa          6.721            7.0   ta certo  ta certo      média  \n",
       "1       média          4.880            5.0   ta certo  ta certo       alta  \n",
       "2        alta          5.010            5.0   ta serto  ta certo       alta  \n",
       "3       baixa          5.358            5.0   ta serto  ta certo      baixa  \n",
       "4       média          5.049            5.0   ta serto  ta certo       alta  "
      ]
     },
     "execution_count": 47,
     "metadata": {},
     "output_type": "execute_result"
    }
   ],
   "source": [
    "dadost.head()"
   ]
  },
  {
   "cell_type": "markdown",
   "metadata": {},
   "source": [
    "### Acurácias\n",
    "Aqui medimos o quão coerente é o nosso método de predição, observando a probabilidade de acertos que o método obteve. Neste caso, foi utilizado o algoritmo do Random Forest que portanto está gerando uma acurácia de 59.15% e uma acurácia de 88.33% com a tolerância."
   ]
  },
  {
   "cell_type": "code",
   "execution_count": 48,
   "metadata": {},
   "outputs": [
    {
     "name": "stdout",
     "output_type": "stream",
     "text": [
      "Precisão da regressão por random forest: 59.15 %\n"
     ]
    }
   ],
   "source": [
    "precisao(dadost, '_rf','por random forest')"
   ]
  },
  {
   "cell_type": "code",
   "execution_count": 49,
   "metadata": {},
   "outputs": [
    {
     "name": "stdout",
     "output_type": "stream",
     "text": [
      "Com tolerância aumentada para +-1 estrela : 88.33 %\n"
     ]
    }
   ],
   "source": [
    "tolerancia_count(dadost, '_rf')"
   ]
  },
  {
   "cell_type": "markdown",
   "metadata": {},
   "source": [
    "## Gradient Boosting\n",
    "Além do Random Forest também usaremos o Gradient Boosting como outro algoritmo afim de produzir um resultado mais apurado na classificação dos vinhos em relação aos outros métodos.\n",
    "\n",
    "O gradient boosting é uma técnica de aprendizado de máquina para problemas de regressão e classificação, que produz um modelo de previsão na forma de um ensemble (conjunto estatístico) de modelos de previsão fracos, geralmente árvores de decisão. Ela constrói o modelo em etapas, como outros métodos de boosting, e os generaliza, permitindo a otimização de uma função de perda diferenciável arbitrária.\n",
    "\n",
    "O princípio que está por trás de qualquer algoritmo de Boosting é a combinação do resultado de muitos classificadores (ou regressores) fracos, se combinando para formar uma espécie de comitê forte de decisão. Embora não haja restrições quanto a estes classificadores e regressores, é usual a utilização de árvores."
   ]
  },
  {
   "cell_type": "code",
   "execution_count": 50,
   "metadata": {},
   "outputs": [],
   "source": [
    "params_gb = {'n_estimators': 500,\n",
    "          'max_depth': 4,\n",
    "          'min_samples_split': 5,\n",
    "          'learning_rate': 0.01,\n",
    "          'loss': 'ls'}"
   ]
  },
  {
   "cell_type": "code",
   "execution_count": 51,
   "metadata": {},
   "outputs": [
    {
     "name": "stdout",
     "output_type": "stream",
     "text": [
      "The mean squared error (MSE) on test set: 0.4598\n"
     ]
    }
   ],
   "source": [
    "reg = ensemble.GradientBoostingRegressor(**params_gb)\n",
    "reg.fit(dados[l1], dados['quality'])\n",
    "\n",
    "mse = mean_squared_error(dadost['quality'], reg.predict(dadost[l1]))\n",
    "print(\"The mean squared error (MSE) on test set: {:.4f}\".format(mse))"
   ]
  },
  {
   "cell_type": "code",
   "execution_count": 52,
   "metadata": {},
   "outputs": [],
   "source": [
    "test_score = np.zeros((params_gb['n_estimators'],), dtype=np.float64)\n",
    "for i, dadost['qualiteste_gb'] in enumerate(reg.staged_predict(dadost[l1])):\n",
    "    test_score[i] = reg.loss_(dadost['quality'], dadost['qualiteste_gb'])"
   ]
  },
  {
   "cell_type": "markdown",
   "metadata": {},
   "source": [
    "##### Round"
   ]
  },
  {
   "cell_type": "code",
   "execution_count": 53,
   "metadata": {},
   "outputs": [],
   "source": [
    "dadost=dadost.assign(qualiround_gb=round(dadost['qualiteste_gb']))"
   ]
  },
  {
   "cell_type": "code",
   "execution_count": 54,
   "metadata": {},
   "outputs": [
    {
     "name": "stderr",
     "output_type": "stream",
     "text": [
      "C:\\Users\\User\\anaconda3\\lib\\site-packages\\ipykernel_launcher.py:5: SettingWithCopyWarning: \n",
      "A value is trying to be set on a copy of a slice from a DataFrame\n",
      "\n",
      "See the caveats in the documentation: https://pandas.pydata.org/pandas-docs/stable/user_guide/indexing.html#returning-a-view-versus-a-copy\n",
      "  \"\"\"\n",
      "C:\\Users\\User\\anaconda3\\lib\\site-packages\\pandas\\core\\indexing.py:670: SettingWithCopyWarning: \n",
      "A value is trying to be set on a copy of a slice from a DataFrame\n",
      "\n",
      "See the caveats in the documentation: https://pandas.pydata.org/pandas-docs/stable/user_guide/indexing.html#returning-a-view-versus-a-copy\n",
      "  self._setitem_with_indexer(indexer, value)\n",
      "C:\\Users\\User\\anaconda3\\lib\\site-packages\\ipykernel_launcher.py:7: SettingWithCopyWarning: \n",
      "A value is trying to be set on a copy of a slice from a DataFrame\n",
      "\n",
      "See the caveats in the documentation: https://pandas.pydata.org/pandas-docs/stable/user_guide/indexing.html#returning-a-view-versus-a-copy\n",
      "  import sys\n"
     ]
    }
   ],
   "source": [
    "verify(dadost, '_gb')"
   ]
  },
  {
   "cell_type": "markdown",
   "metadata": {},
   "source": [
    "##### Desvio Padrão"
   ]
  },
  {
   "cell_type": "code",
   "execution_count": 55,
   "metadata": {},
   "outputs": [
    {
     "name": "stderr",
     "output_type": "stream",
     "text": [
      "C:\\Users\\User\\anaconda3\\lib\\site-packages\\ipykernel_launcher.py:5: SettingWithCopyWarning: \n",
      "A value is trying to be set on a copy of a slice from a DataFrame\n",
      "\n",
      "See the caveats in the documentation: https://pandas.pydata.org/pandas-docs/stable/user_guide/indexing.html#returning-a-view-versus-a-copy\n",
      "  \"\"\"\n",
      "C:\\Users\\User\\anaconda3\\lib\\site-packages\\ipykernel_launcher.py:7: SettingWithCopyWarning: \n",
      "A value is trying to be set on a copy of a slice from a DataFrame\n",
      "\n",
      "See the caveats in the documentation: https://pandas.pydata.org/pandas-docs/stable/user_guide/indexing.html#returning-a-view-versus-a-copy\n",
      "  import sys\n"
     ]
    }
   ],
   "source": [
    "tolerancia(dadost,'_gb')"
   ]
  },
  {
   "cell_type": "markdown",
   "metadata": {},
   "source": [
    "##### Classificando arredondamentos"
   ]
  },
  {
   "cell_type": "code",
   "execution_count": 56,
   "metadata": {},
   "outputs": [
    {
     "name": "stderr",
     "output_type": "stream",
     "text": [
      "C:\\Users\\User\\anaconda3\\lib\\site-packages\\ipykernel_launcher.py:7: SettingWithCopyWarning: \n",
      "A value is trying to be set on a copy of a slice from a DataFrame\n",
      "\n",
      "See the caveats in the documentation: https://pandas.pydata.org/pandas-docs/stable/user_guide/indexing.html#returning-a-view-versus-a-copy\n",
      "  import sys\n",
      "C:\\Users\\User\\anaconda3\\lib\\site-packages\\ipykernel_launcher.py:9: SettingWithCopyWarning: \n",
      "A value is trying to be set on a copy of a slice from a DataFrame\n",
      "\n",
      "See the caveats in the documentation: https://pandas.pydata.org/pandas-docs/stable/user_guide/indexing.html#returning-a-view-versus-a-copy\n",
      "  if __name__ == '__main__':\n",
      "C:\\Users\\User\\anaconda3\\lib\\site-packages\\ipykernel_launcher.py:5: SettingWithCopyWarning: \n",
      "A value is trying to be set on a copy of a slice from a DataFrame\n",
      "\n",
      "See the caveats in the documentation: https://pandas.pydata.org/pandas-docs/stable/user_guide/indexing.html#returning-a-view-versus-a-copy\n",
      "  \"\"\"\n"
     ]
    }
   ],
   "source": [
    "certeza_de_arredondamento(dadost, '_gb')"
   ]
  },
  {
   "cell_type": "code",
   "execution_count": 57,
   "metadata": {
    "scrolled": true
   },
   "outputs": [
    {
     "data": {
      "text/html": [
       "<div>\n",
       "<style scoped>\n",
       "    .dataframe tbody tr th:only-of-type {\n",
       "        vertical-align: middle;\n",
       "    }\n",
       "\n",
       "    .dataframe tbody tr th {\n",
       "        vertical-align: top;\n",
       "    }\n",
       "\n",
       "    .dataframe thead th {\n",
       "        text-align: right;\n",
       "    }\n",
       "</style>\n",
       "<table border=\"1\" class=\"dataframe\">\n",
       "  <thead>\n",
       "    <tr style=\"text-align: right;\">\n",
       "      <th></th>\n",
       "      <th>index</th>\n",
       "      <th>volatile acidity</th>\n",
       "      <th>chlorides</th>\n",
       "      <th>total sulfur dioxide</th>\n",
       "      <th>pH</th>\n",
       "      <th>sulphates</th>\n",
       "      <th>alcohol</th>\n",
       "      <th>quality</th>\n",
       "      <th>qualiteste_rlm</th>\n",
       "      <th>qualiround_rlm</th>\n",
       "      <th>...</th>\n",
       "      <th>qualiteste_rf</th>\n",
       "      <th>qualiround_rf</th>\n",
       "      <th>acertos_rf</th>\n",
       "      <th>+-1_rf</th>\n",
       "      <th>certeza_rf</th>\n",
       "      <th>qualiteste_gb</th>\n",
       "      <th>qualiround_gb</th>\n",
       "      <th>acertos_gb</th>\n",
       "      <th>+-1_gb</th>\n",
       "      <th>certeza_gb</th>\n",
       "    </tr>\n",
       "  </thead>\n",
       "  <tbody>\n",
       "    <tr>\n",
       "      <th>0</th>\n",
       "      <td>1192</td>\n",
       "      <td>0.250</td>\n",
       "      <td>0.063</td>\n",
       "      <td>41.0</td>\n",
       "      <td>3.52</td>\n",
       "      <td>0.80</td>\n",
       "      <td>12.4</td>\n",
       "      <td>7</td>\n",
       "      <td>6.637135</td>\n",
       "      <td>7.0</td>\n",
       "      <td>...</td>\n",
       "      <td>6.721</td>\n",
       "      <td>7.0</td>\n",
       "      <td>ta certo</td>\n",
       "      <td>ta certo</td>\n",
       "      <td>média</td>\n",
       "      <td>6.669098</td>\n",
       "      <td>7.0</td>\n",
       "      <td>ta certo</td>\n",
       "      <td>ta certo</td>\n",
       "      <td>média</td>\n",
       "    </tr>\n",
       "    <tr>\n",
       "      <th>1</th>\n",
       "      <td>1193</td>\n",
       "      <td>0.885</td>\n",
       "      <td>0.166</td>\n",
       "      <td>12.0</td>\n",
       "      <td>3.56</td>\n",
       "      <td>0.51</td>\n",
       "      <td>10.8</td>\n",
       "      <td>5</td>\n",
       "      <td>5.180584</td>\n",
       "      <td>5.0</td>\n",
       "      <td>...</td>\n",
       "      <td>4.880</td>\n",
       "      <td>5.0</td>\n",
       "      <td>ta certo</td>\n",
       "      <td>ta certo</td>\n",
       "      <td>alta</td>\n",
       "      <td>4.702505</td>\n",
       "      <td>5.0</td>\n",
       "      <td>ta certo</td>\n",
       "      <td>ta certo</td>\n",
       "      <td>média</td>\n",
       "    </tr>\n",
       "    <tr>\n",
       "      <th>2</th>\n",
       "      <td>1194</td>\n",
       "      <td>0.745</td>\n",
       "      <td>0.114</td>\n",
       "      <td>64.0</td>\n",
       "      <td>3.22</td>\n",
       "      <td>0.59</td>\n",
       "      <td>9.5</td>\n",
       "      <td>6</td>\n",
       "      <td>5.035882</td>\n",
       "      <td>5.0</td>\n",
       "      <td>...</td>\n",
       "      <td>5.010</td>\n",
       "      <td>5.0</td>\n",
       "      <td>ta serto</td>\n",
       "      <td>ta certo</td>\n",
       "      <td>alta</td>\n",
       "      <td>5.107879</td>\n",
       "      <td>5.0</td>\n",
       "      <td>ta serto</td>\n",
       "      <td>ta certo</td>\n",
       "      <td>alta</td>\n",
       "    </tr>\n",
       "    <tr>\n",
       "      <th>3</th>\n",
       "      <td>1195</td>\n",
       "      <td>0.430</td>\n",
       "      <td>0.078</td>\n",
       "      <td>56.0</td>\n",
       "      <td>3.52</td>\n",
       "      <td>0.60</td>\n",
       "      <td>9.5</td>\n",
       "      <td>6</td>\n",
       "      <td>5.345183</td>\n",
       "      <td>5.0</td>\n",
       "      <td>...</td>\n",
       "      <td>5.358</td>\n",
       "      <td>5.0</td>\n",
       "      <td>ta serto</td>\n",
       "      <td>ta certo</td>\n",
       "      <td>baixa</td>\n",
       "      <td>5.284332</td>\n",
       "      <td>5.0</td>\n",
       "      <td>ta serto</td>\n",
       "      <td>ta certo</td>\n",
       "      <td>média</td>\n",
       "    </tr>\n",
       "    <tr>\n",
       "      <th>4</th>\n",
       "      <td>1196</td>\n",
       "      <td>0.580</td>\n",
       "      <td>0.076</td>\n",
       "      <td>94.0</td>\n",
       "      <td>3.21</td>\n",
       "      <td>0.58</td>\n",
       "      <td>9.5</td>\n",
       "      <td>6</td>\n",
       "      <td>5.177851</td>\n",
       "      <td>5.0</td>\n",
       "      <td>...</td>\n",
       "      <td>5.049</td>\n",
       "      <td>5.0</td>\n",
       "      <td>ta serto</td>\n",
       "      <td>ta certo</td>\n",
       "      <td>alta</td>\n",
       "      <td>5.095588</td>\n",
       "      <td>5.0</td>\n",
       "      <td>ta serto</td>\n",
       "      <td>ta certo</td>\n",
       "      <td>alta</td>\n",
       "    </tr>\n",
       "  </tbody>\n",
       "</table>\n",
       "<p>5 rows × 23 columns</p>\n",
       "</div>"
      ],
      "text/plain": [
       "   index  volatile acidity  chlorides  total sulfur dioxide    pH  sulphates  \\\n",
       "0   1192             0.250      0.063                  41.0  3.52       0.80   \n",
       "1   1193             0.885      0.166                  12.0  3.56       0.51   \n",
       "2   1194             0.745      0.114                  64.0  3.22       0.59   \n",
       "3   1195             0.430      0.078                  56.0  3.52       0.60   \n",
       "4   1196             0.580      0.076                  94.0  3.21       0.58   \n",
       "\n",
       "   alcohol  quality  qualiteste_rlm  qualiround_rlm  ... qualiteste_rf  \\\n",
       "0     12.4        7        6.637135             7.0  ...         6.721   \n",
       "1     10.8        5        5.180584             5.0  ...         4.880   \n",
       "2      9.5        6        5.035882             5.0  ...         5.010   \n",
       "3      9.5        6        5.345183             5.0  ...         5.358   \n",
       "4      9.5        6        5.177851             5.0  ...         5.049   \n",
       "\n",
       "  qualiround_rf acertos_rf    +-1_rf  certeza_rf qualiteste_gb qualiround_gb  \\\n",
       "0           7.0   ta certo  ta certo       média      6.669098           7.0   \n",
       "1           5.0   ta certo  ta certo        alta      4.702505           5.0   \n",
       "2           5.0   ta serto  ta certo        alta      5.107879           5.0   \n",
       "3           5.0   ta serto  ta certo       baixa      5.284332           5.0   \n",
       "4           5.0   ta serto  ta certo        alta      5.095588           5.0   \n",
       "\n",
       "  acertos_gb    +-1_gb  certeza_gb  \n",
       "0   ta certo  ta certo       média  \n",
       "1   ta certo  ta certo       média  \n",
       "2   ta serto  ta certo        alta  \n",
       "3   ta serto  ta certo       média  \n",
       "4   ta serto  ta certo        alta  \n",
       "\n",
       "[5 rows x 23 columns]"
      ]
     },
     "execution_count": 57,
     "metadata": {},
     "output_type": "execute_result"
    }
   ],
   "source": [
    "dadost.head()"
   ]
  },
  {
   "cell_type": "markdown",
   "metadata": {},
   "source": [
    "### Acurácias\n",
    "Aqui medimos o quão coerente é o nosso método de predição, observando a probabilidade de acertos que o método obteve. Neste caso, foi utilizado o algoritmo do Gradient Boosting que portanto está gerando uma acurácia de 57.03% e uma acurácia de 89.12% com a tolerância."
   ]
  },
  {
   "cell_type": "code",
   "execution_count": 58,
   "metadata": {},
   "outputs": [
    {
     "name": "stdout",
     "output_type": "stream",
     "text": [
      "Precisão da regressão por Gradient Boosting: 57.03 %\n"
     ]
    }
   ],
   "source": [
    "precisao(dadost, '_gb','por Gradient Boosting')"
   ]
  },
  {
   "cell_type": "code",
   "execution_count": 59,
   "metadata": {
    "scrolled": true
   },
   "outputs": [
    {
     "name": "stdout",
     "output_type": "stream",
     "text": [
      "Com tolerância aumentada para +-1 estrela : 89.12 %\n"
     ]
    }
   ],
   "source": [
    "tolerancia_count(dadost, '_gb')"
   ]
  },
  {
   "cell_type": "markdown",
   "metadata": {},
   "source": [
    "###### Junção das predições\n",
    "\n",
    "Com os resultados das três predições em mãos, foi gerado um gráfico com intuito comparativo entre os métodos utilizados que apresenta a quantidade de acertos que cada respectivo método obteve em cada nota de qualidade dos vinhos apresentados na base de dados.\n",
    "\n",
    "No caso, é posível observar que mesmo que a regressão linear múltipla possua uma acurácia melhor que ambos os outros algoritmos, ela permanece com menos acertos na maioria das categorias de qualidade do gráfico, porém, é bastante convinvente em questão da nota 6 onde obteve uma quantidade de acertos consideravelmente maior que os outros métodosde predição."
   ]
  },
  {
   "cell_type": "code",
   "execution_count": 60,
   "metadata": {},
   "outputs": [],
   "source": [
    "dadosm=dadost[['acertos_rf','quality','acertos_rlm','acertos_gb']]"
   ]
  },
  {
   "cell_type": "code",
   "execution_count": 61,
   "metadata": {},
   "outputs": [],
   "source": [
    "dadosmelt=dadosm.melt(id_vars=[\"quality\"], \n",
    "            var_name=\"var_origem\", \n",
    "            value_name=\"Acerto\")"
   ]
  },
  {
   "cell_type": "code",
   "execution_count": 62,
   "metadata": {},
   "outputs": [],
   "source": [
    "dadosmelt=dadosmelt.loc[dadosmelt['Acerto']=='ta certo']"
   ]
  },
  {
   "cell_type": "code",
   "execution_count": 63,
   "metadata": {},
   "outputs": [
    {
     "data": {
      "image/png": "[encoded data removed]",
      "text/plain": [
       "<Figure size 454.625x360 with 1 Axes>"
      ]
     },
     "metadata": {
      "needs_background": "light"
     },
     "output_type": "display_data"
    }
   ],
   "source": [
    "p1=sns.catplot(x=\"quality\",hue=\"var_origem\", kind=\"count\", palette=\"ch:.25\", data=dadosmelt)\n",
    "\n",
    "plt.show()"
   ]
  },
  {
   "cell_type": "markdown",
   "metadata": {},
   "source": [
    "## Conclusão\n",
    "\n",
    "De acordo com os resultados das acurácias dos métodos utilizados para fazer a predição da qualidade dos vinhos no projeto, consideramos que a utilização do método de regressão multipla em relação ao uso do algoritmo Random Forest e do Gradient Boosting é mais cabível pelo fato de gerar uma maior acurácia para a qualificação dos vinhos, tendo em consideração que a precisão da regressão multipla foi de 63.07% enquanto a precissão do Random Forest resultou em 59.15% e a do Gradient Boosting foi de 57.03%, portanto, fica explicito a melhor leitura dos dados por parte da regressão.\n",
    "\n",
    "Além das acurácias em todos os métodos de precisão serem consideravelmente razoaveis, pode-se concluir que qualquer um desses métodos são utilizaveis para este caso, porém, ainda há uma margem de erro considerável levando em consideração que a maior precisão atingiu o máximo de 62.07% de acertos, portanto, para melhorar a acurácia da classificação dos vihnos seria possível a personalização de novas simplificações ou adições de dados com intuito de deixar o classificador mais apurado, ou também julgar a possibilidade de utilizar um novo algoritmo para gerar novos \"outputs\" com mais acertos que a regressão.\n",
    "\n",
    "Todavia, este projeto visa a classificação sobre a qualidade de um vinho tinto, no entanto, este projeto também pode ser útil em questão de gerar a fórmula para bons vinhos a serem feitos, ou seja, observando os dados sobre os ingredientes e sua quantidade nos determinados vinhos é possível a formulação de uma base para os ingredientes indispensáveis para um vinho de alta qualidade, além de mostrar quais são as quantidades de determinados ingredientes que acabam por tornar um vinho de baixa qualidade."
   ]
  }
 ],
 "metadata": {
  "kernelspec": {
   "display_name": "Python 3",
   "language": "python",
   "name": "python3"
  },
  "language_info": {
   "codemirror_mode": {
    "name": "ipython",
    "version": 3
   },
   "file_extension": ".py",
   "mimetype": "text/x-python",
   "name": "python",
   "nbconvert_exporter": "python",
   "pygments_lexer": "ipython3",
   "version": "3.7.6"
  }
 },
 "nbformat": 4,
 "nbformat_minor": 2
}
