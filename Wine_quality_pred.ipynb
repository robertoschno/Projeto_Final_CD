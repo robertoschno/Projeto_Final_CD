{
 "cells": [
  {
   "cell_type": "markdown",
   "metadata": {},
   "source": [
    "## Projeto Classificado de vinhos tintos\n",
    "integrantes: Raphael Jacob Butori, Roberto Scnhorrenberg - Turma B"
   ]
  },
  {
   "cell_type": "code",
   "execution_count": 171,
   "metadata": {},
   "outputs": [],
   "source": [
    "import pandas as pd\n",
    "import numpy as np\n",
    "import math\n",
    "import scipy.stats as stats\n",
    "import statsmodels.api as sm\n",
    "import matplotlib.pyplot as plt\n",
    "from seaborn import heatmap\n",
    "from sklearn.ensemble import RandomForestRegressor\n",
    "from sklearn import datasets, ensemble\n",
    "from sklearn.metrics import mean_squared_error\n",
    "import seaborn as sns"
   ]
  },
  {
   "cell_type": "markdown",
   "metadata": {},
   "source": [
    "# Objetivo:\n",
    "\n",
    "A partir de um dataset com as principais características de vinhos tintos e suas respectivas classificações na base de dados, o objetivo de nosso projeto é automatizar este processo de classificação para que possam ser colocados novos vinhos na base sem necessidade de classificação manual, e com critérios similares aos utilizados na base originária."
   ]
  },
  {
   "cell_type": "markdown",
   "metadata": {},
   "source": [
    "##### Leitura e limpeza dos dados\n",
    "Observamos a necessidade de retirar linhas repetidas no dataset, visto que não é de nosso interesse que certo tipo ou certo vinho específico tenha peso maior que outro, para nossa predição, para isso elaboramos um código de exclusão de linhas que se repetem por inteiro, levando em conta que tal repetição pode (e ocorria) ocorrer mais de uma vez seguida:"
   ]
  },
  {
   "cell_type": "code",
   "execution_count": null,
   "metadata": {},
   "outputs": [],
   "source": [
    "dados1=pd.read_csv('wine_quality.csv')"
   ]
  },
  {
   "cell_type": "code",
   "execution_count": null,
   "metadata": {},
   "outputs": [],
   "source": [
    "def limpeza(x):\n",
    "    for y in range(len(x)-1):\n",
    "        i=0\n",
    "        seguidos=0\n",
    "        for z in x.columns:\n",
    "            if x[z][y+1]==x[z][y-seguidos]:\n",
    "                i+=1\n",
    "        if i==len(x.columns):\n",
    "            x.drop(index=y,inplace=True)\n",
    "            seguidos+=1\n",
    "        else:\n",
    "            seguidos=0"
   ]
  },
  {
   "cell_type": "code",
   "execution_count": null,
   "metadata": {},
   "outputs": [],
   "source": [
    "limpeza(dados1)"
   ]
  },
  {
   "cell_type": "code",
   "execution_count": null,
   "metadata": {},
   "outputs": [
    {
     "data": {
      "text/html": [
       "<div>\n",
       "<style scoped>\n",
       "    .dataframe tbody tr th:only-of-type {\n",
       "        vertical-align: middle;\n",
       "    }\n",
       "\n",
       "    .dataframe tbody tr th {\n",
       "        vertical-align: top;\n",
       "    }\n",
       "\n",
       "    .dataframe thead th {\n",
       "        text-align: right;\n",
       "    }\n",
       "</style>\n",
       "<table border=\"1\" class=\"dataframe\">\n",
       "  <thead>\n",
       "    <tr style=\"text-align: right;\">\n",
       "      <th></th>\n",
       "      <th>fixed acidity</th>\n",
       "      <th>volatile acidity</th>\n",
       "      <th>citric acid</th>\n",
       "      <th>residual sugar</th>\n",
       "      <th>chlorides</th>\n",
       "      <th>free sulfur dioxide</th>\n",
       "      <th>total sulfur dioxide</th>\n",
       "      <th>density</th>\n",
       "      <th>pH</th>\n",
       "      <th>sulphates</th>\n",
       "      <th>alcohol</th>\n",
       "      <th>quality</th>\n",
       "    </tr>\n",
       "  </thead>\n",
       "  <tbody>\n",
       "    <tr>\n",
       "      <th>0</th>\n",
       "      <td>7.4</td>\n",
       "      <td>0.70</td>\n",
       "      <td>0.00</td>\n",
       "      <td>1.9</td>\n",
       "      <td>0.076</td>\n",
       "      <td>11.0</td>\n",
       "      <td>34.0</td>\n",
       "      <td>0.9978</td>\n",
       "      <td>3.51</td>\n",
       "      <td>0.56</td>\n",
       "      <td>9.4</td>\n",
       "      <td>5</td>\n",
       "    </tr>\n",
       "    <tr>\n",
       "      <th>1</th>\n",
       "      <td>7.8</td>\n",
       "      <td>0.88</td>\n",
       "      <td>0.00</td>\n",
       "      <td>2.6</td>\n",
       "      <td>0.098</td>\n",
       "      <td>25.0</td>\n",
       "      <td>67.0</td>\n",
       "      <td>0.9968</td>\n",
       "      <td>3.20</td>\n",
       "      <td>0.68</td>\n",
       "      <td>9.8</td>\n",
       "      <td>5</td>\n",
       "    </tr>\n",
       "    <tr>\n",
       "      <th>2</th>\n",
       "      <td>7.8</td>\n",
       "      <td>0.76</td>\n",
       "      <td>0.04</td>\n",
       "      <td>2.3</td>\n",
       "      <td>0.092</td>\n",
       "      <td>15.0</td>\n",
       "      <td>54.0</td>\n",
       "      <td>0.9970</td>\n",
       "      <td>3.26</td>\n",
       "      <td>0.65</td>\n",
       "      <td>9.8</td>\n",
       "      <td>5</td>\n",
       "    </tr>\n",
       "    <tr>\n",
       "      <th>3</th>\n",
       "      <td>11.2</td>\n",
       "      <td>0.28</td>\n",
       "      <td>0.56</td>\n",
       "      <td>1.9</td>\n",
       "      <td>0.075</td>\n",
       "      <td>17.0</td>\n",
       "      <td>60.0</td>\n",
       "      <td>0.9980</td>\n",
       "      <td>3.16</td>\n",
       "      <td>0.58</td>\n",
       "      <td>9.8</td>\n",
       "      <td>6</td>\n",
       "    </tr>\n",
       "    <tr>\n",
       "      <th>4</th>\n",
       "      <td>7.4</td>\n",
       "      <td>0.70</td>\n",
       "      <td>0.00</td>\n",
       "      <td>1.9</td>\n",
       "      <td>0.076</td>\n",
       "      <td>11.0</td>\n",
       "      <td>34.0</td>\n",
       "      <td>0.9978</td>\n",
       "      <td>3.51</td>\n",
       "      <td>0.56</td>\n",
       "      <td>9.4</td>\n",
       "      <td>5</td>\n",
       "    </tr>\n",
       "  </tbody>\n",
       "</table>\n",
       "</div>"
      ],
      "text/plain": [
       "   fixed acidity  volatile acidity  citric acid  residual sugar  chlorides  \\\n",
       "0            7.4              0.70         0.00             1.9      0.076   \n",
       "1            7.8              0.88         0.00             2.6      0.098   \n",
       "2            7.8              0.76         0.04             2.3      0.092   \n",
       "3           11.2              0.28         0.56             1.9      0.075   \n",
       "4            7.4              0.70         0.00             1.9      0.076   \n",
       "\n",
       "   free sulfur dioxide  total sulfur dioxide  density    pH  sulphates  \\\n",
       "0                 11.0                  34.0   0.9978  3.51       0.56   \n",
       "1                 25.0                  67.0   0.9968  3.20       0.68   \n",
       "2                 15.0                  54.0   0.9970  3.26       0.65   \n",
       "3                 17.0                  60.0   0.9980  3.16       0.58   \n",
       "4                 11.0                  34.0   0.9978  3.51       0.56   \n",
       "\n",
       "   alcohol  quality  \n",
       "0      9.4        5  \n",
       "1      9.8        5  \n",
       "2      9.8        5  \n",
       "3      9.8        6  \n",
       "4      9.4        5  "
      ]
     },
     "execution_count": 175,
     "metadata": {},
     "output_type": "execute_result"
    }
   ],
   "source": [
    "dados1.head()"
   ]
  },
  {
   "cell_type": "markdown",
   "metadata": {},
   "source": [
    "##### Separação Treinamento/ Teste\n",
    "Como estamos lidando com apenas um dataset, e o mesmo deve ser utilizado tanto para treinamento quanto teste da classificação de qualidade do vinho, é necessário dividirmos o dataset, a proporção utilizada foi 75% / 25%, respectivamente"
   ]
  },
  {
   "cell_type": "code",
   "execution_count": null,
   "metadata": {},
   "outputs": [],
   "source": [
    "dados=dados1[0:round((len(dados1))*.75)]\n",
    "dadost=dados1[round((len(dados1))*.75):]"
   ]
  },
  {
   "cell_type": "markdown",
   "metadata": {},
   "source": [
    "### Análise exploratória dos dados"
   ]
  },
  {
   "cell_type": "markdown",
   "metadata": {},
   "source": [
    "Como fizemos a limpeza das linhas repetidas, é importante analisarmos novamente o tamanho de nosso dataset e avaliar se este satisfaz nossas necessidades, com o comando describe conseguimos extrair tanto esta informação quanto algumas outras sobre o conteúdo de nossos dados, o que pode nos dar uma ideia de alguns problemas os quais enfrentaremos gerados pela base origem."
   ]
  },
  {
   "cell_type": "code",
   "execution_count": null,
   "metadata": {
    "scrolled": true
   },
   "outputs": [
    {
     "data": {
      "text/html": [
       "<div>\n",
       "<style scoped>\n",
       "    .dataframe tbody tr th:only-of-type {\n",
       "        vertical-align: middle;\n",
       "    }\n",
       "\n",
       "    .dataframe tbody tr th {\n",
       "        vertical-align: top;\n",
       "    }\n",
       "\n",
       "    .dataframe thead th {\n",
       "        text-align: right;\n",
       "    }\n",
       "</style>\n",
       "<table border=\"1\" class=\"dataframe\">\n",
       "  <thead>\n",
       "    <tr style=\"text-align: right;\">\n",
       "      <th></th>\n",
       "      <th>fixed acidity</th>\n",
       "      <th>volatile acidity</th>\n",
       "      <th>citric acid</th>\n",
       "      <th>residual sugar</th>\n",
       "      <th>chlorides</th>\n",
       "      <th>free sulfur dioxide</th>\n",
       "      <th>total sulfur dioxide</th>\n",
       "      <th>density</th>\n",
       "      <th>pH</th>\n",
       "      <th>sulphates</th>\n",
       "      <th>alcohol</th>\n",
       "      <th>quality</th>\n",
       "    </tr>\n",
       "  </thead>\n",
       "  <tbody>\n",
       "    <tr>\n",
       "      <th>count</th>\n",
       "      <td>1131.000000</td>\n",
       "      <td>1131.000000</td>\n",
       "      <td>1131.000000</td>\n",
       "      <td>1131.000000</td>\n",
       "      <td>1131.000000</td>\n",
       "      <td>1131.000000</td>\n",
       "      <td>1131.000000</td>\n",
       "      <td>1131.000000</td>\n",
       "      <td>1131.000000</td>\n",
       "      <td>1131.000000</td>\n",
       "      <td>1131.000000</td>\n",
       "      <td>1131.000000</td>\n",
       "    </tr>\n",
       "    <tr>\n",
       "      <th>mean</th>\n",
       "      <td>8.612909</td>\n",
       "      <td>0.520234</td>\n",
       "      <td>0.292414</td>\n",
       "      <td>2.558709</td>\n",
       "      <td>0.089513</td>\n",
       "      <td>15.341291</td>\n",
       "      <td>47.309461</td>\n",
       "      <td>0.997052</td>\n",
       "      <td>3.298267</td>\n",
       "      <td>0.667542</td>\n",
       "      <td>10.379399</td>\n",
       "      <td>5.656941</td>\n",
       "    </tr>\n",
       "    <tr>\n",
       "      <th>std</th>\n",
       "      <td>1.764044</td>\n",
       "      <td>0.179039</td>\n",
       "      <td>0.195915</td>\n",
       "      <td>1.245838</td>\n",
       "      <td>0.049275</td>\n",
       "      <td>10.256458</td>\n",
       "      <td>34.274990</td>\n",
       "      <td>0.001862</td>\n",
       "      <td>0.155447</td>\n",
       "      <td>0.178764</td>\n",
       "      <td>1.094455</td>\n",
       "      <td>0.812999</td>\n",
       "    </tr>\n",
       "    <tr>\n",
       "      <th>min</th>\n",
       "      <td>4.600000</td>\n",
       "      <td>0.120000</td>\n",
       "      <td>0.000000</td>\n",
       "      <td>0.900000</td>\n",
       "      <td>0.012000</td>\n",
       "      <td>1.000000</td>\n",
       "      <td>6.000000</td>\n",
       "      <td>0.990070</td>\n",
       "      <td>2.740000</td>\n",
       "      <td>0.330000</td>\n",
       "      <td>8.400000</td>\n",
       "      <td>3.000000</td>\n",
       "    </tr>\n",
       "    <tr>\n",
       "      <th>25%</th>\n",
       "      <td>7.300000</td>\n",
       "      <td>0.390000</td>\n",
       "      <td>0.120000</td>\n",
       "      <td>1.900000</td>\n",
       "      <td>0.071000</td>\n",
       "      <td>7.000000</td>\n",
       "      <td>22.000000</td>\n",
       "      <td>0.996000</td>\n",
       "      <td>3.200000</td>\n",
       "      <td>0.560000</td>\n",
       "      <td>9.500000</td>\n",
       "      <td>5.000000</td>\n",
       "    </tr>\n",
       "    <tr>\n",
       "      <th>50%</th>\n",
       "      <td>8.300000</td>\n",
       "      <td>0.500000</td>\n",
       "      <td>0.280000</td>\n",
       "      <td>2.200000</td>\n",
       "      <td>0.080000</td>\n",
       "      <td>13.000000</td>\n",
       "      <td>38.000000</td>\n",
       "      <td>0.997000</td>\n",
       "      <td>3.300000</td>\n",
       "      <td>0.620000</td>\n",
       "      <td>10.000000</td>\n",
       "      <td>6.000000</td>\n",
       "    </tr>\n",
       "    <tr>\n",
       "      <th>75%</th>\n",
       "      <td>9.600000</td>\n",
       "      <td>0.630000</td>\n",
       "      <td>0.450000</td>\n",
       "      <td>2.700000</td>\n",
       "      <td>0.092000</td>\n",
       "      <td>21.000000</td>\n",
       "      <td>63.000000</td>\n",
       "      <td>0.998150</td>\n",
       "      <td>3.390000</td>\n",
       "      <td>0.740000</td>\n",
       "      <td>11.000000</td>\n",
       "      <td>6.000000</td>\n",
       "    </tr>\n",
       "    <tr>\n",
       "      <th>max</th>\n",
       "      <td>15.900000</td>\n",
       "      <td>1.330000</td>\n",
       "      <td>1.000000</td>\n",
       "      <td>15.500000</td>\n",
       "      <td>0.611000</td>\n",
       "      <td>68.000000</td>\n",
       "      <td>289.000000</td>\n",
       "      <td>1.003200</td>\n",
       "      <td>3.900000</td>\n",
       "      <td>2.000000</td>\n",
       "      <td>14.900000</td>\n",
       "      <td>8.000000</td>\n",
       "    </tr>\n",
       "  </tbody>\n",
       "</table>\n",
       "</div>"
      ],
      "text/plain": [
       "       fixed acidity  volatile acidity  citric acid  residual sugar  \\\n",
       "count    1131.000000       1131.000000  1131.000000     1131.000000   \n",
       "mean        8.612909          0.520234     0.292414        2.558709   \n",
       "std         1.764044          0.179039     0.195915        1.245838   \n",
       "min         4.600000          0.120000     0.000000        0.900000   \n",
       "25%         7.300000          0.390000     0.120000        1.900000   \n",
       "50%         8.300000          0.500000     0.280000        2.200000   \n",
       "75%         9.600000          0.630000     0.450000        2.700000   \n",
       "max        15.900000          1.330000     1.000000       15.500000   \n",
       "\n",
       "         chlorides  free sulfur dioxide  total sulfur dioxide      density  \\\n",
       "count  1131.000000          1131.000000           1131.000000  1131.000000   \n",
       "mean      0.089513            15.341291             47.309461     0.997052   \n",
       "std       0.049275            10.256458             34.274990     0.001862   \n",
       "min       0.012000             1.000000              6.000000     0.990070   \n",
       "25%       0.071000             7.000000             22.000000     0.996000   \n",
       "50%       0.080000            13.000000             38.000000     0.997000   \n",
       "75%       0.092000            21.000000             63.000000     0.998150   \n",
       "max       0.611000            68.000000            289.000000     1.003200   \n",
       "\n",
       "                pH    sulphates      alcohol      quality  \n",
       "count  1131.000000  1131.000000  1131.000000  1131.000000  \n",
       "mean      3.298267     0.667542    10.379399     5.656941  \n",
       "std       0.155447     0.178764     1.094455     0.812999  \n",
       "min       2.740000     0.330000     8.400000     3.000000  \n",
       "25%       3.200000     0.560000     9.500000     5.000000  \n",
       "50%       3.300000     0.620000    10.000000     6.000000  \n",
       "75%       3.390000     0.740000    11.000000     6.000000  \n",
       "max       3.900000     2.000000    14.900000     8.000000  "
      ]
     },
     "execution_count": 177,
     "metadata": {},
     "output_type": "execute_result"
    }
   ],
   "source": [
    "dados.describe()"
   ]
  },
  {
   "cell_type": "code",
   "execution_count": null,
   "metadata": {},
   "outputs": [
    {
     "data": {
      "text/plain": [
       "fixed acidity           0\n",
       "volatile acidity        0\n",
       "citric acid             0\n",
       "residual sugar          0\n",
       "chlorides               0\n",
       "free sulfur dioxide     0\n",
       "total sulfur dioxide    0\n",
       "density                 0\n",
       "pH                      0\n",
       "sulphates               0\n",
       "alcohol                 0\n",
       "quality                 0\n",
       "dtype: int64"
      ]
     },
     "execution_count": 178,
     "metadata": {},
     "output_type": "execute_result"
    }
   ],
   "source": [
    "np.sum(dados.isnull())"
   ]
  },
  {
   "cell_type": "markdown",
   "metadata": {},
   "source": [
    "### Histogramas"
   ]
  },
  {
   "cell_type": "code",
   "execution_count": null,
   "metadata": {},
   "outputs": [
    {
     "data": {
      "image/png": "[encoded data removed]",
      "text/plain": [
       "<Figure size 432x288 with 1 Axes>"
      ]
     },
     "metadata": {
      "needs_background": "light"
     },
     "output_type": "display_data"
    },
    {
     "data": {
      "image/png": "[encoded data removed]",
      "text/plain": [
       "<Figure size 432x288 with 1 Axes>"
      ]
     },
     "metadata": {
      "needs_background": "light"
     },
     "output_type": "display_data"
    },
    {
     "data": {
      "image/png": "[encoded data removed]",
      "text/plain": [
       "<Figure size 432x288 with 1 Axes>"
      ]
     },
     "metadata": {
      "needs_background": "light"
     },
     "output_type": "display_data"
    },
    {
     "data": {
      "image/png": "[encoded data removed]",
      "text/plain": [
       "<Figure size 432x288 with 1 Axes>"
      ]
     },
     "metadata": {
      "needs_background": "light"
     },
     "output_type": "display_data"
    },
    {
     "data": {
      "image/png": "[encoded data removed]",
      "text/plain": [
       "<Figure size 432x288 with 1 Axes>"
      ]
     },
     "metadata": {
      "needs_background": "light"
     },
     "output_type": "display_data"
    },
    {
     "data": {
      "image/png": "[encoded data removed]",
      "text/plain": [
       "<Figure size 432x288 with 1 Axes>"
      ]
     },
     "metadata": {
      "needs_background": "light"
     },
     "output_type": "display_data"
    },
    {
     "data": {
      "image/png": "[encoded data removed]",
      "text/plain": [
       "<Figure size 432x288 with 1 Axes>"
      ]
     },
     "metadata": {
      "needs_background": "light"
     },
     "output_type": "display_data"
    },
    {
     "data": {
      "image/png": "[encoded data removed]",
      "text/plain": [
       "<Figure size 432x288 with 1 Axes>"
      ]
     },
     "metadata": {
      "needs_background": "light"
     },
     "output_type": "display_data"
    },
    {
     "data": {
      "image/png": "[encoded data removed]",
      "text/plain": [
       "<Figure size 432x288 with 1 Axes>"
      ]
     },
     "metadata": {
      "needs_background": "light"
     },
     "output_type": "display_data"
    },
    {
     "data": {
      "image/png": "[encoded data removed]",
      "text/plain": [
       "<Figure size 432x288 with 1 Axes>"
      ]
     },
     "metadata": {
      "needs_background": "light"
     },
     "output_type": "display_data"
    },
    {
     "data": {
      "image/png": "[encoded data removed]",
      "text/plain": [
       "<Figure size 432x288 with 1 Axes>"
      ]
     },
     "metadata": {
      "needs_background": "light"
     },
     "output_type": "display_data"
    },
    {
     "data": {
      "image/png": "[encoded data removed]",
      "text/plain": [
       "<Figure size 432x288 with 1 Axes>"
      ]
     },
     "metadata": {
      "needs_background": "light"
     },
     "output_type": "display_data"
    }
   ],
   "source": [
    "for x in dados.columns:\n",
    "    dados.hist(column=x)"
   ]
  },
  {
   "cell_type": "markdown",
   "metadata": {},
   "source": [
    "##### Análise dos histogramas\n",
    "Os histogramas plotados tem como objetivo nos indicar a existência de concentrações de valores, com a análise deles podemos observar campos onde a atuação de nosso classificador pode ser mais ou menos relevante. Um resultado importantíssimo plotado neste boxplot é o referente a nossa variável de interesse, quality, no histograma referente a quality temos uma discrepância enorme na distribuição, tendo sua maioria concentrada por volta da nota 5, isso acarretará em uma forte tendência do classificador em estabelecer sua base por volta dessa mesma classificação, visto que isso reduz o erro total, como consquência de uma base tão concentrada também teremos a falta de predições nas notas conforme distam dessa mediana, dificultando a predição destes valores."
   ]
  },
  {
   "cell_type": "markdown",
   "metadata": {},
   "source": [
    "### Boxplot"
   ]
  },
  {
   "cell_type": "code",
   "execution_count": null,
   "metadata": {},
   "outputs": [
    {
     "data": {
      "image/png": "[encoded data removed]",
      "text/plain": [
       "<Figure size 504x504 with 1 Axes>"
      ]
     },
     "metadata": {
      "needs_background": "light"
     },
     "output_type": "display_data"
    },
    {
     "data": {
      "image/png": "[encoded data removed]",
      "text/plain": [
       "<Figure size 504x504 with 1 Axes>"
      ]
     },
     "metadata": {
      "needs_background": "light"
     },
     "output_type": "display_data"
    },
    {
     "data": {
      "image/png": "[encoded data removed]",
      "text/plain": [
       "<Figure size 504x504 with 1 Axes>"
      ]
     },
     "metadata": {
      "needs_background": "light"
     },
     "output_type": "display_data"
    },
    {
     "data": {
      "image/png": "[encoded data removed]",
      "text/plain": [
       "<Figure size 504x504 with 1 Axes>"
      ]
     },
     "metadata": {
      "needs_background": "light"
     },
     "output_type": "display_data"
    },
    {
     "data": {
      "image/png": "[encoded data removed]",
      "text/plain": [
       "<Figure size 504x504 with 1 Axes>"
      ]
     },
     "metadata": {
      "needs_background": "light"
     },
     "output_type": "display_data"
    },
    {
     "data": {
      "image/png": "[encoded data removed]",
      "text/plain": [
       "<Figure size 504x504 with 1 Axes>"
      ]
     },
     "metadata": {
      "needs_background": "light"
     },
     "output_type": "display_data"
    },
    {
     "data": {
      "image/png": "[encoded data removed]",
      "text/plain": [
       "<Figure size 504x504 with 1 Axes>"
      ]
     },
     "metadata": {
      "needs_background": "light"
     },
     "output_type": "display_data"
    },
    {
     "data": {
      "image/png": "[encoded data removed]",
      "text/plain": [
       "<Figure size 504x504 with 1 Axes>"
      ]
     },
     "metadata": {
      "needs_background": "light"
     },
     "output_type": "display_data"
    },
    {
     "data": {
      "image/png": "[encoded data removed]",
      "text/plain": [
       "<Figure size 504x504 with 1 Axes>"
      ]
     },
     "metadata": {
      "needs_background": "light"
     },
     "output_type": "display_data"
    },
    {
     "data": {
      "image/png": "[encoded data removed]",
      "text/plain": [
       "<Figure size 504x504 with 1 Axes>"
      ]
     },
     "metadata": {
      "needs_background": "light"
     },
     "output_type": "display_data"
    },
    {
     "data": {
      "image/png": "[encoded data removed]",
      "text/plain": [
       "<Figure size 504x504 with 1 Axes>"
      ]
     },
     "metadata": {
      "needs_background": "light"
     },
     "output_type": "display_data"
    }
   ],
   "source": [
    "for x in dados.columns:\n",
    "    if x!='quality':\n",
    "        dados.boxplot(column=x,by='quality',figsize=(7,7))"
   ]
  },
  {
   "cell_type": "markdown",
   "metadata": {},
   "source": [
    "###### observação dos boxplots\n",
    "Observando bem os boxplots podemos perceber algumas características decorrentes dos vinhos com uma avaliação melhor que o normal, como por exemplo, no Boxplot da \"quality\" em relação com a \"fixed acidity\" é possível discernir que um vinho tinto bom com alta avaliação possui um grau um pouco maior de acidez em sua constituição, quando sua linha verde representando a mediana está presente acima das demais.\n",
    "\n",
    "Onde podemos aobservar com mais clareza no Boxplot da relação da \"quality\" com o \"alcohol\", nesse quadrante fica explicito que um vinho mais bem avaliado possui um nível alcoolico mais elevado. E portanto, além desse Boxplot outros como os das variáveis \"sulphates\"e \"citric acids\" tamém possuem a mesma relação, ou seja, quanto mais \"sulphates\" e \"citric acids\" melhor será a nota do vinho em questão.\n",
    "\n",
    "Por outro lado apresenta-se o inverso desse caso descrito acima. Ou seja, para algumas variáveis como \"volatile acidity\", \"chlorides\", \"density\" e \"pH\" se tem um processo contrário, onde quanto menor a quantidade dessas variáveis estiverem presentes no vinho em questão melhor será sua nota."
   ]
  },
  {
   "cell_type": "markdown",
   "metadata": {},
   "source": [
    "### Observação das correlações entre as variáveis\n",
    "Um critério necessário para escolha de quais variáveis tratar em uma regressão é a existência de uma correlação altíssima entre duas variáveis quaisquer, em tal caso é necessária a remoção de uma delas, ainda que seu 'valor p' não seja tão alto, para a visualização de tais correlações optamos pela plotagem de um heatmap."
   ]
  },
  {
   "cell_type": "code",
   "execution_count": null,
   "metadata": {},
   "outputs": [],
   "source": [
    "teste=dados.corr()"
   ]
  },
  {
   "cell_type": "code",
   "execution_count": null,
   "metadata": {},
   "outputs": [],
   "source": [
    "n = teste.shape[0]\n",
    "teste.iloc[range(n),range(n)]= float('NaN')"
   ]
  },
  {
   "cell_type": "code",
   "execution_count": null,
   "metadata": {},
   "outputs": [
    {
     "data": {
      "image/png": "[encoded data removed]",
      "text/plain": [
       "<Figure size 432x288 with 2 Axes>"
      ]
     },
     "metadata": {
      "needs_background": "light"
     },
     "output_type": "display_data"
    }
   ],
   "source": [
    "heatmap(teste);"
   ]
  },
  {
   "cell_type": "code",
   "execution_count": null,
   "metadata": {},
   "outputs": [
    {
     "data": {
      "image/png": "[encoded data removed]",
      "text/plain": [
       "<Figure size 432x288 with 2 Axes>"
      ]
     },
     "metadata": {
      "needs_background": "light"
     },
     "output_type": "display_data"
    }
   ],
   "source": [
    "teste1=teste[(teste.abs()>0.6)&(teste<1)]\n",
    "heatmap(teste1);"
   ]
  },
  {
   "cell_type": "markdown",
   "metadata": {},
   "source": [
    "### Limpeza de variáveis desnecessárias\n",
    "Uma correlação muito alta e um \"valor p\" também alto acabam por desgastar o bom resultado da regressão realizada, portanto, é benéfica a remoção das variáveis que apresentem essas características.\n",
    "\n",
    "Diante disso, elaboramos um código para a retirada de qualquer valor p que ultrapassasse o limite de 0.1 no valor p amplamente utilizado.\n",
    "\n",
    "Vale ressaltar que o código consiste em um loop que efetua a retirada da variável com valor p mais alto uma vez por loop, até que nenhuma ultrapasse o limite estabelecido, uma vez que toda a vez que uma variável é retirada os dados mudam."
   ]
  },
  {
   "cell_type": "code",
   "execution_count": null,
   "metadata": {},
   "outputs": [],
   "source": [
    "def regressao(X,Y):\n",
    "    X_cp = sm.add_constant(X)\n",
    "    model = sm.OLS(Y,X_cp)\n",
    "    results = model.fit()\n",
    "    return results"
   ]
  },
  {
   "cell_type": "code",
   "execution_count": null,
   "metadata": {},
   "outputs": [],
   "source": [
    "def limpavar(df,varint):\n",
    "    l=[]\n",
    "    for x in df.columns:\n",
    "        if x!=varint:\n",
    "            l.append(x)\n",
    "    maiorf=1\n",
    "    while maiorf>0.1:\n",
    "        results=regressao(df[l],df[varint])\n",
    "        i=0\n",
    "        imaior=0\n",
    "        maior=0\n",
    "        while i < len(results.pvalues):\n",
    "            if results.pvalues[i]>maior:\n",
    "                maior=results.pvalues[i]\n",
    "                imaior=i\n",
    "            i+=1\n",
    "        maiorf=maior\n",
    "        if maior>0.1:\n",
    "            l.pop(imaior-1)\n",
    "    results.summary()\n",
    "    return l"
   ]
  },
  {
   "cell_type": "code",
   "execution_count": null,
   "metadata": {},
   "outputs": [],
   "source": [
    "l1=limpavar(dados,'quality')"
   ]
  },
  {
   "cell_type": "code",
   "execution_count": null,
   "metadata": {},
   "outputs": [],
   "source": [
    "results=regressao(dados[l1],dados['quality'])"
   ]
  },
  {
   "cell_type": "markdown",
   "metadata": {},
   "source": [
    "#### Retirada das colunas\n",
    "Como output da função descrita anteriormente obtivemos uma lista de colunas a serem descartadas, o código a seguir efetua o descarte das mesmas."
   ]
  },
  {
   "cell_type": "code",
   "execution_count": null,
   "metadata": {},
   "outputs": [],
   "source": [
    "def dropcol(x,l):\n",
    "    for y in x.columns:\n",
    "        if y not in l and y!='quality':\n",
    "            x.drop(columns=[y],inplace=True)"
   ]
  },
  {
   "cell_type": "code",
   "execution_count": null,
   "metadata": {},
   "outputs": [
    {
     "name": "stderr",
     "output_type": "stream",
     "text": [
      "C:\\Users\\rbuto\\AppData\\Local\\Continuum\\anaconda3\\lib\\site-packages\\pandas\\core\\frame.py:3697: SettingWithCopyWarning: \n",
      "A value is trying to be set on a copy of a slice from a DataFrame\n",
      "\n",
      "See the caveats in the documentation: http://pandas.pydata.org/pandas-docs/stable/indexing.html#indexing-view-versus-copy\n",
      "  errors=errors)\n"
     ]
    }
   ],
   "source": [
    "dropcol(dadost,l1)"
   ]
  },
  {
   "cell_type": "markdown",
   "metadata": {},
   "source": [
    "## Regressão Linear Múltipla\n",
    "A análise da regressão tem por objetivo desvendar o comportamento entre uma variável dependente e as independentes. Modelos matemáticos são capazes de explicar essa relação por meio de uma equção que correlaciona a variável dependente com as independentes. É valido resaltar que a análise da regressão não garante que as variáveis explicativas sejam a causa da variável independente.\n",
    "\n",
    "Nese caso, pode-se utilizar uma regressão linear multipla, buscando explicar a ocorrência da variável dependente em questão. \n",
    "\n",
    "Regressão múltipla é uma coleção de técnicas estatísticas para construir modelos que descrevem de maneira razoável relações entre várias variáveis explicativas de um determinado processo. A diferença entre a regressão linear simples e a múltipla é que na múltipla são tratadas duas ou mais variáveis explicativas.\n",
    "\n",
    "Essencialmente consiste na atribuição de um coeficiente que multiplicará o valor para determinada coluna para posteriormente ser adicionado ao total, o valor inicial é uma constante, como citado anteriormente, e a partir dele são feitas mudanças com base nos dados de cada coluna."
   ]
  },
  {
   "cell_type": "code",
   "execution_count": null,
   "metadata": {},
   "outputs": [],
   "source": [
    "#predict#random-forest\n",
    "def qtest(df):\n",
    "    df.reset_index(inplace=True)\n",
    "    if 'index' in df.columns:\n",
    "        df.drop(columns=['index'])\n",
    "    df['qualiteste_rlm']=results.params['const']+results.params['volatile acidity']*df['volatile acidity']\\\n",
    "                    +results.params['chlorides']*df['chlorides']\\\n",
    "                    +results.params['total sulfur dioxide']*df['total sulfur dioxide']\\\n",
    "                    +results.params['pH']*df['pH']\\\n",
    "                    +results.params['sulphates']*df['sulphates']\\\n",
    "                    +results.params['alcohol']*df['alcohol']\n"
   ]
  },
  {
   "cell_type": "code",
   "execution_count": null,
   "metadata": {},
   "outputs": [
    {
     "name": "stderr",
     "output_type": "stream",
     "text": [
      "C:\\Users\\rbuto\\AppData\\Local\\Continuum\\anaconda3\\lib\\site-packages\\ipykernel_launcher.py:11: SettingWithCopyWarning: \n",
      "A value is trying to be set on a copy of a slice from a DataFrame.\n",
      "Try using .loc[row_indexer,col_indexer] = value instead\n",
      "\n",
      "See the caveats in the documentation: http://pandas.pydata.org/pandas-docs/stable/indexing.html#indexing-view-versus-copy\n",
      "  # This is added back by InteractiveShellApp.init_path()\n"
     ]
    }
   ],
   "source": [
    "qtest(dadost)"
   ]
  },
  {
   "cell_type": "markdown",
   "metadata": {},
   "source": [
    "#### Round\n",
    "Nossa variável de interesse trata-se de uma variável discreta, portanto não possui valores intermediários, para adequar nosso resultado contínuo à seu respectivo discreto basta arredondá-lo, optamos por não descartar o resultado contínuo uma vez que pode nos dar importantes dados sobre a precisão, uma vez que milésimos de nota podem acarretar em erro ou acerto, caso formos nos basear apenas nisso."
   ]
  },
  {
   "cell_type": "code",
   "execution_count": null,
   "metadata": {},
   "outputs": [],
   "source": [
    "dadost=dadost.assign(qualiround_rlm=round(dadost['qualiteste_rlm']))"
   ]
  },
  {
   "cell_type": "markdown",
   "metadata": {},
   "source": [
    "#### Quantidade de acertos e erros\n",
    "Nesta estapa realizamos a contagem de acertos e erros brutos com intuito comparativo para com eles gerar a probabilidade de acerto para a regressão multipla, ou seja, para gerar a acurácia do método utilizado."
   ]
  },
  {
   "cell_type": "code",
   "execution_count": null,
   "metadata": {},
   "outputs": [],
   "source": [
    "def verify (df,tipo):\n",
    "    df['acertos'+tipo]=0\n",
    "    for x in range(len(dadost)):\n",
    "        if dadost['quality'][x]==dadost['qualiround'+tipo][x]:\n",
    "            dadost['acertos'+tipo][x]='ta certo'\n",
    "        else:\n",
    "            dadost['acertos'+tipo][x]='ta serto'"
   ]
  },
  {
   "cell_type": "code",
   "execution_count": null,
   "metadata": {},
   "outputs": [
    {
     "name": "stderr",
     "output_type": "stream",
     "text": [
      "C:\\Users\\rbuto\\AppData\\Local\\Continuum\\anaconda3\\lib\\site-packages\\ipykernel_launcher.py:5: SettingWithCopyWarning: \n",
      "A value is trying to be set on a copy of a slice from a DataFrame\n",
      "\n",
      "See the caveats in the documentation: http://pandas.pydata.org/pandas-docs/stable/indexing.html#indexing-view-versus-copy\n",
      "  \"\"\"\n",
      "C:\\Users\\rbuto\\AppData\\Local\\Continuum\\anaconda3\\lib\\site-packages\\ipykernel_launcher.py:7: SettingWithCopyWarning: \n",
      "A value is trying to be set on a copy of a slice from a DataFrame\n",
      "\n",
      "See the caveats in the documentation: http://pandas.pydata.org/pandas-docs/stable/indexing.html#indexing-view-versus-copy\n",
      "  import sys\n"
     ]
    }
   ],
   "source": [
    "verify(dadost,'_rlm')"
   ]
  },
  {
   "cell_type": "code",
   "execution_count": null,
   "metadata": {},
   "outputs": [
    {
     "data": {
      "text/html": [
       "<div>\n",
       "<style scoped>\n",
       "    .dataframe tbody tr th:only-of-type {\n",
       "        vertical-align: middle;\n",
       "    }\n",
       "\n",
       "    .dataframe tbody tr th {\n",
       "        vertical-align: top;\n",
       "    }\n",
       "\n",
       "    .dataframe thead th {\n",
       "        text-align: right;\n",
       "    }\n",
       "</style>\n",
       "<table border=\"1\" class=\"dataframe\">\n",
       "  <thead>\n",
       "    <tr style=\"text-align: right;\">\n",
       "      <th></th>\n",
       "      <th>index</th>\n",
       "      <th>volatile acidity</th>\n",
       "      <th>chlorides</th>\n",
       "      <th>total sulfur dioxide</th>\n",
       "      <th>pH</th>\n",
       "      <th>sulphates</th>\n",
       "      <th>alcohol</th>\n",
       "      <th>quality</th>\n",
       "      <th>qualiteste_rlm</th>\n",
       "      <th>qualiround_rlm</th>\n",
       "      <th>acertos_rlm</th>\n",
       "    </tr>\n",
       "  </thead>\n",
       "  <tbody>\n",
       "    <tr>\n",
       "      <th>0</th>\n",
       "      <td>1192</td>\n",
       "      <td>0.250</td>\n",
       "      <td>0.063</td>\n",
       "      <td>41.0</td>\n",
       "      <td>3.52</td>\n",
       "      <td>0.80</td>\n",
       "      <td>12.4</td>\n",
       "      <td>7</td>\n",
       "      <td>6.637135</td>\n",
       "      <td>7.0</td>\n",
       "      <td>ta certo</td>\n",
       "    </tr>\n",
       "    <tr>\n",
       "      <th>1</th>\n",
       "      <td>1193</td>\n",
       "      <td>0.885</td>\n",
       "      <td>0.166</td>\n",
       "      <td>12.0</td>\n",
       "      <td>3.56</td>\n",
       "      <td>0.51</td>\n",
       "      <td>10.8</td>\n",
       "      <td>5</td>\n",
       "      <td>5.180584</td>\n",
       "      <td>5.0</td>\n",
       "      <td>ta certo</td>\n",
       "    </tr>\n",
       "    <tr>\n",
       "      <th>2</th>\n",
       "      <td>1194</td>\n",
       "      <td>0.745</td>\n",
       "      <td>0.114</td>\n",
       "      <td>64.0</td>\n",
       "      <td>3.22</td>\n",
       "      <td>0.59</td>\n",
       "      <td>9.5</td>\n",
       "      <td>6</td>\n",
       "      <td>5.035882</td>\n",
       "      <td>5.0</td>\n",
       "      <td>ta serto</td>\n",
       "    </tr>\n",
       "    <tr>\n",
       "      <th>3</th>\n",
       "      <td>1195</td>\n",
       "      <td>0.430</td>\n",
       "      <td>0.078</td>\n",
       "      <td>56.0</td>\n",
       "      <td>3.52</td>\n",
       "      <td>0.60</td>\n",
       "      <td>9.5</td>\n",
       "      <td>6</td>\n",
       "      <td>5.345183</td>\n",
       "      <td>5.0</td>\n",
       "      <td>ta serto</td>\n",
       "    </tr>\n",
       "    <tr>\n",
       "      <th>4</th>\n",
       "      <td>1196</td>\n",
       "      <td>0.580</td>\n",
       "      <td>0.076</td>\n",
       "      <td>94.0</td>\n",
       "      <td>3.21</td>\n",
       "      <td>0.58</td>\n",
       "      <td>9.5</td>\n",
       "      <td>6</td>\n",
       "      <td>5.177851</td>\n",
       "      <td>5.0</td>\n",
       "      <td>ta serto</td>\n",
       "    </tr>\n",
       "  </tbody>\n",
       "</table>\n",
       "</div>"
      ],
      "text/plain": [
       "   index  volatile acidity  chlorides  total sulfur dioxide    pH  sulphates  \\\n",
       "0   1192             0.250      0.063                  41.0  3.52       0.80   \n",
       "1   1193             0.885      0.166                  12.0  3.56       0.51   \n",
       "2   1194             0.745      0.114                  64.0  3.22       0.59   \n",
       "3   1195             0.430      0.078                  56.0  3.52       0.60   \n",
       "4   1196             0.580      0.076                  94.0  3.21       0.58   \n",
       "\n",
       "   alcohol  quality  qualiteste_rlm  qualiround_rlm acertos_rlm  \n",
       "0     12.4        7        6.637135             7.0    ta certo  \n",
       "1     10.8        5        5.180584             5.0    ta certo  \n",
       "2      9.5        6        5.035882             5.0    ta serto  \n",
       "3      9.5        6        5.345183             5.0    ta serto  \n",
       "4      9.5        6        5.177851             5.0    ta serto  "
      ]
     },
     "execution_count": 196,
     "metadata": {},
     "output_type": "execute_result"
    }
   ],
   "source": [
    "dadost.head()"
   ]
  },
  {
   "cell_type": "markdown",
   "metadata": {},
   "source": [
    "### Tolerância\n",
    "Como citado anteriormente, o classificador por si só pode errar nem que seja por um milésimo que o levou ao arredondamento errôneo, como forma de tirar esse erro causado por arredondamentos da questão, porém acarretando em um resultado irreal, a função abaixo descrita como tolerância considera ambos os lados possíveis do arredondamento como acertos, com o intúito de avaliar quantos dos erros foram 'próximos' de um acerto, também trazendo a informação de quantos foram erros consideravelmente longes do acerto."
   ]
  },
  {
   "cell_type": "code",
   "execution_count": null,
   "metadata": {},
   "outputs": [],
   "source": [
    "def tolerancia(df,tipo):  \n",
    "    df['+-1'+tipo]=0\n",
    "    for x in range(len(dadost)):\n",
    "        if math.ceil(df['qualiteste'+tipo][x])==df['quality'][x] or math.floor(df['qualiteste'+tipo][x])==df['quality'][x]:\n",
    "            dadost['+-1'+tipo][x]='ta certo'\n",
    "        else:\n",
    "            dadost['+-1'+tipo][x]='ta serto'"
   ]
  },
  {
   "cell_type": "code",
   "execution_count": null,
   "metadata": {},
   "outputs": [
    {
     "name": "stderr",
     "output_type": "stream",
     "text": [
      "C:\\Users\\rbuto\\AppData\\Local\\Continuum\\anaconda3\\lib\\site-packages\\ipykernel_launcher.py:5: SettingWithCopyWarning: \n",
      "A value is trying to be set on a copy of a slice from a DataFrame\n",
      "\n",
      "See the caveats in the documentation: http://pandas.pydata.org/pandas-docs/stable/indexing.html#indexing-view-versus-copy\n",
      "  \"\"\"\n",
      "C:\\Users\\rbuto\\AppData\\Local\\Continuum\\anaconda3\\lib\\site-packages\\ipykernel_launcher.py:7: SettingWithCopyWarning: \n",
      "A value is trying to be set on a copy of a slice from a DataFrame\n",
      "\n",
      "See the caveats in the documentation: http://pandas.pydata.org/pandas-docs/stable/indexing.html#indexing-view-versus-copy\n",
      "  import sys\n"
     ]
    }
   ],
   "source": [
    "tolerancia(dadost,'_rlm')"
   ]
  },
  {
   "cell_type": "markdown",
   "metadata": {},
   "source": [
    "### Classificando arredondamentos\n",
    "Como foi observado, neste projeto é indispensável o arredondamento dos \"outputs\" reproduzidos para qualquer método de presição utilizado, porém desta forma acaba-se por ser neessário realizar arredondamentos mais \"claros\" do que outros. Dessa maneira classificamos os arredondamentos de três maneiras os arredondamentos de clareza \"alta\", \"média\" e \"baixa\".\n",
    "\n",
    "Um arredondamento \"fácil\" seria um arredondamneto que está mais perto do valor do número inteiro, como por exemplo os números 5.01 e 7.98. Estes valores estão bem perto dos respectivos números 5 e 8, portanto serão considerados como um arredondamento de certeza \"alta\".\n",
    "\n",
    "Um arredondamento \"médio\" seria um arredondamneto que está mais ou menos perto do valor do número inteiro, como por exemplo os números 5.2 e 7.81. Estes valores estão a uma dsitância razoavel dos respectivos números 5 e 8, mas ainda são arredondamentos simples que são facilmente observados, portanto serão considerados como um arredondamento de certeza \"média\".\n",
    "\n",
    "Um arredondamento \"dificíl\" seria um arredondamneto que está mais longe do valor do número inteiro, como por exemplo os números 5.52 e 7.506. Estes valores estão bem longe dos respectivos números 5 e 8 e podem ser facilmente confundidos seus arredondamentos, portanto serão considerados como um arredondamento de certeza \"baixa\"."
   ]
  },
  {
   "cell_type": "code",
   "execution_count": null,
   "metadata": {},
   "outputs": [],
   "source": [
    "def certeza_de_arredondamento(df, tipo):\n",
    "    df['certeza'+tipo]=0\n",
    "    for x in range(len(df)):\n",
    "        if abs(df['qualiround'+tipo][x]-df['qualiteste'+tipo][x])>(2*.5/3)  :\n",
    "            df['certeza'+tipo][x]='baixa'\n",
    "        elif abs(df['qualiround'+tipo][x]-df['qualiteste'+tipo][x])>(.5/3):\n",
    "            df['certeza'+tipo][x]='média'\n",
    "        else: \n",
    "            df['certeza'+tipo][x]='alta'"
   ]
  },
  {
   "cell_type": "code",
   "execution_count": null,
   "metadata": {},
   "outputs": [
    {
     "name": "stderr",
     "output_type": "stream",
     "text": [
      "C:\\Users\\rbuto\\AppData\\Local\\Continuum\\anaconda3\\lib\\site-packages\\ipykernel_launcher.py:5: SettingWithCopyWarning: \n",
      "A value is trying to be set on a copy of a slice from a DataFrame\n",
      "\n",
      "See the caveats in the documentation: http://pandas.pydata.org/pandas-docs/stable/indexing.html#indexing-view-versus-copy\n",
      "  \"\"\"\n",
      "C:\\Users\\rbuto\\AppData\\Local\\Continuum\\anaconda3\\lib\\site-packages\\ipykernel_launcher.py:7: SettingWithCopyWarning: \n",
      "A value is trying to be set on a copy of a slice from a DataFrame\n",
      "\n",
      "See the caveats in the documentation: http://pandas.pydata.org/pandas-docs/stable/indexing.html#indexing-view-versus-copy\n",
      "  import sys\n",
      "C:\\Users\\rbuto\\AppData\\Local\\Continuum\\anaconda3\\lib\\site-packages\\ipykernel_launcher.py:9: SettingWithCopyWarning: \n",
      "A value is trying to be set on a copy of a slice from a DataFrame\n",
      "\n",
      "See the caveats in the documentation: http://pandas.pydata.org/pandas-docs/stable/indexing.html#indexing-view-versus-copy\n",
      "  if __name__ == '__main__':\n"
     ]
    }
   ],
   "source": [
    "certeza_de_arredondamento(dadost,'_rlm')"
   ]
  },
  {
   "cell_type": "code",
   "execution_count": null,
   "metadata": {},
   "outputs": [
    {
     "data": {
      "text/html": [
       "<div>\n",
       "<style scoped>\n",
       "    .dataframe tbody tr th:only-of-type {\n",
       "        vertical-align: middle;\n",
       "    }\n",
       "\n",
       "    .dataframe tbody tr th {\n",
       "        vertical-align: top;\n",
       "    }\n",
       "\n",
       "    .dataframe thead th {\n",
       "        text-align: right;\n",
       "    }\n",
       "</style>\n",
       "<table border=\"1\" class=\"dataframe\">\n",
       "  <thead>\n",
       "    <tr style=\"text-align: right;\">\n",
       "      <th></th>\n",
       "      <th>index</th>\n",
       "      <th>volatile acidity</th>\n",
       "      <th>chlorides</th>\n",
       "      <th>total sulfur dioxide</th>\n",
       "      <th>pH</th>\n",
       "      <th>sulphates</th>\n",
       "      <th>alcohol</th>\n",
       "      <th>quality</th>\n",
       "      <th>qualiteste_rlm</th>\n",
       "      <th>qualiround_rlm</th>\n",
       "      <th>acertos_rlm</th>\n",
       "      <th>+-1_rlm</th>\n",
       "      <th>certeza_rlm</th>\n",
       "    </tr>\n",
       "  </thead>\n",
       "  <tbody>\n",
       "    <tr>\n",
       "      <th>0</th>\n",
       "      <td>1192</td>\n",
       "      <td>0.250</td>\n",
       "      <td>0.063</td>\n",
       "      <td>41.0</td>\n",
       "      <td>3.52</td>\n",
       "      <td>0.80</td>\n",
       "      <td>12.4</td>\n",
       "      <td>7</td>\n",
       "      <td>6.637135</td>\n",
       "      <td>7.0</td>\n",
       "      <td>ta certo</td>\n",
       "      <td>ta certo</td>\n",
       "      <td>baixa</td>\n",
       "    </tr>\n",
       "    <tr>\n",
       "      <th>1</th>\n",
       "      <td>1193</td>\n",
       "      <td>0.885</td>\n",
       "      <td>0.166</td>\n",
       "      <td>12.0</td>\n",
       "      <td>3.56</td>\n",
       "      <td>0.51</td>\n",
       "      <td>10.8</td>\n",
       "      <td>5</td>\n",
       "      <td>5.180584</td>\n",
       "      <td>5.0</td>\n",
       "      <td>ta certo</td>\n",
       "      <td>ta certo</td>\n",
       "      <td>média</td>\n",
       "    </tr>\n",
       "    <tr>\n",
       "      <th>2</th>\n",
       "      <td>1194</td>\n",
       "      <td>0.745</td>\n",
       "      <td>0.114</td>\n",
       "      <td>64.0</td>\n",
       "      <td>3.22</td>\n",
       "      <td>0.59</td>\n",
       "      <td>9.5</td>\n",
       "      <td>6</td>\n",
       "      <td>5.035882</td>\n",
       "      <td>5.0</td>\n",
       "      <td>ta serto</td>\n",
       "      <td>ta certo</td>\n",
       "      <td>alta</td>\n",
       "    </tr>\n",
       "    <tr>\n",
       "      <th>3</th>\n",
       "      <td>1195</td>\n",
       "      <td>0.430</td>\n",
       "      <td>0.078</td>\n",
       "      <td>56.0</td>\n",
       "      <td>3.52</td>\n",
       "      <td>0.60</td>\n",
       "      <td>9.5</td>\n",
       "      <td>6</td>\n",
       "      <td>5.345183</td>\n",
       "      <td>5.0</td>\n",
       "      <td>ta serto</td>\n",
       "      <td>ta certo</td>\n",
       "      <td>baixa</td>\n",
       "    </tr>\n",
       "    <tr>\n",
       "      <th>4</th>\n",
       "      <td>1196</td>\n",
       "      <td>0.580</td>\n",
       "      <td>0.076</td>\n",
       "      <td>94.0</td>\n",
       "      <td>3.21</td>\n",
       "      <td>0.58</td>\n",
       "      <td>9.5</td>\n",
       "      <td>6</td>\n",
       "      <td>5.177851</td>\n",
       "      <td>5.0</td>\n",
       "      <td>ta serto</td>\n",
       "      <td>ta certo</td>\n",
       "      <td>média</td>\n",
       "    </tr>\n",
       "  </tbody>\n",
       "</table>\n",
       "</div>"
      ],
      "text/plain": [
       "   index  volatile acidity  chlorides  total sulfur dioxide    pH  sulphates  \\\n",
       "0   1192             0.250      0.063                  41.0  3.52       0.80   \n",
       "1   1193             0.885      0.166                  12.0  3.56       0.51   \n",
       "2   1194             0.745      0.114                  64.0  3.22       0.59   \n",
       "3   1195             0.430      0.078                  56.0  3.52       0.60   \n",
       "4   1196             0.580      0.076                  94.0  3.21       0.58   \n",
       "\n",
       "   alcohol  quality  qualiteste_rlm  qualiround_rlm acertos_rlm   +-1_rlm  \\\n",
       "0     12.4        7        6.637135             7.0    ta certo  ta certo   \n",
       "1     10.8        5        5.180584             5.0    ta certo  ta certo   \n",
       "2      9.5        6        5.035882             5.0    ta serto  ta certo   \n",
       "3      9.5        6        5.345183             5.0    ta serto  ta certo   \n",
       "4      9.5        6        5.177851             5.0    ta serto  ta certo   \n",
       "\n",
       "  certeza_rlm  \n",
       "0       baixa  \n",
       "1       média  \n",
       "2        alta  \n",
       "3       baixa  \n",
       "4       média  "
      ]
     },
     "execution_count": 201,
     "metadata": {},
     "output_type": "execute_result"
    }
   ],
   "source": [
    "dadost.head()"
   ]
  },
  {
   "cell_type": "markdown",
   "metadata": {},
   "source": [
    "### Acurácias\n",
    "Aqui medimos o quão coerente é o nosso método de predição, observando a probabilidade de acertos que o método obteve. Neste caso, foi utilizado a regressão multipla que portanto está gerando uma acurácia de 62.07% e uma acurácia de 86.21% com a tolerância aumentada."
   ]
  },
  {
   "cell_type": "code",
   "execution_count": null,
   "metadata": {},
   "outputs": [],
   "source": [
    "def precisao(df,tipo, txt):\n",
    "    ac = df['acertos'+tipo].value_counts()\n",
    "    precisão=ac['ta certo']/ac.sum()\n",
    "    print('Precisão da regressão '+txt+':',round(float(precisão*100),2),'%')"
   ]
  },
  {
   "cell_type": "code",
   "execution_count": null,
   "metadata": {},
   "outputs": [
    {
     "name": "stdout",
     "output_type": "stream",
     "text": [
      "Precisão da regressão linear múltipla: 62.07 %\n"
     ]
    }
   ],
   "source": [
    "precisao(dadost,'_rlm','linear múltipla')"
   ]
  },
  {
   "cell_type": "code",
   "execution_count": null,
   "metadata": {},
   "outputs": [],
   "source": [
    "def tolerancia_count(df,tipo):\n",
    "    tol=dadost['+-1'+tipo].value_counts()\n",
    "    tolerância_de_1_estrela=tol['ta certo']/tol.sum()\n",
    "    print('Com tolerância aumentada para +-1 estrela :',round(float(tolerância_de_1_estrela*100),2),'%')"
   ]
  },
  {
   "cell_type": "code",
   "execution_count": null,
   "metadata": {},
   "outputs": [
    {
     "name": "stderr",
     "output_type": "stream",
     "text": [
      "C:\\Users\\rbuto\\AppData\\Local\\Continuum\\anaconda3\\lib\\site-packages\\ipykernel_launcher.py:5: SettingWithCopyWarning: \n",
      "A value is trying to be set on a copy of a slice from a DataFrame\n",
      "\n",
      "See the caveats in the documentation: http://pandas.pydata.org/pandas-docs/stable/indexing.html#indexing-view-versus-copy\n",
      "  \"\"\"\n",
      "C:\\Users\\rbuto\\AppData\\Local\\Continuum\\anaconda3\\lib\\site-packages\\ipykernel_launcher.py:7: SettingWithCopyWarning: \n",
      "A value is trying to be set on a copy of a slice from a DataFrame\n",
      "\n",
      "See the caveats in the documentation: http://pandas.pydata.org/pandas-docs/stable/indexing.html#indexing-view-versus-copy\n",
      "  import sys\n"
     ]
    }
   ],
   "source": [
    "tolerancia(dadost,'_rlm')"
   ]
  },
  {
   "cell_type": "code",
   "execution_count": null,
   "metadata": {},
   "outputs": [],
   "source": [
    "baixa=dadost.loc[dadost['certeza_rlm']=='baixa']\n",
    "media=dadost.loc[dadost['certeza_rlm']=='média']\n",
    "alta=dadost.loc[dadost['certeza_rlm']=='alta']"
   ]
  },
  {
   "cell_type": "markdown",
   "metadata": {},
   "source": [
    "###### Acertos e erros considerando o nível de certeza do arredondamento \"baixa\""
   ]
  },
  {
   "cell_type": "code",
   "execution_count": null,
   "metadata": {},
   "outputs": [
    {
     "name": "stdout",
     "output_type": "stream",
     "text": [
      "Probabilidade de acerto para certeza baixa: 59.52 %\n"
     ]
    }
   ],
   "source": [
    "bx=baixa['acertos_rlm'].value_counts()\n",
    "print('Probabilidade de acerto para certeza baixa:',round((bx['ta certo']/bx.sum())*100,2),'%')"
   ]
  },
  {
   "cell_type": "markdown",
   "metadata": {},
   "source": [
    "###### Acertos e erros considerando o nível de certeza do arredondamento \"média\""
   ]
  },
  {
   "cell_type": "code",
   "execution_count": null,
   "metadata": {},
   "outputs": [
    {
     "name": "stdout",
     "output_type": "stream",
     "text": [
      "Probabilidade de acerto para certeza média: 62.9 %\n"
     ]
    }
   ],
   "source": [
    "md=media['acertos_rlm'].value_counts()\n",
    "print('Probabilidade de acerto para certeza média:',round((md['ta certo']/md.sum())*100,2),'%')"
   ]
  },
  {
   "cell_type": "markdown",
   "metadata": {},
   "source": [
    "###### Acertos e erros considerando o nível de certeza do arredondamento \"alta\""
   ]
  },
  {
   "cell_type": "code",
   "execution_count": null,
   "metadata": {},
   "outputs": [
    {
     "name": "stdout",
     "output_type": "stream",
     "text": [
      "Probabilidade de acerto para certeza alta: 64.29 %\n"
     ]
    }
   ],
   "source": [
    "at=alta['acertos_rlm'].value_counts()\n",
    "print('Probabilidade de acerto para certeza alta:',round((at['ta certo']/bx.sum())*100,2),'%')"
   ]
  },
  {
   "cell_type": "markdown",
   "metadata": {},
   "source": [
    "## Random Forest\n",
    "\n",
    "Random Forest significa floresta aleatória. Este nome explica muito bem o funcionamento do algoritmo, que irá criar muitas árvores de decisão, de maneira aleatória,alterando assim a ordem na qual as variáveis terão impacto no resultado final formando o que podemos enxergar como uma floresta, onde cada árvore será utilizada para formar uma média que será o output final.\n",
    "\n",
    "###### Árvores de Decisão (Decision Trees)\n",
    "\n",
    "As Árvores de Decisão, ou Decision Trees, estabelecem regras para tomada de decisão. O algoritmo criará uma estrutura similar a um fluxograma, com \"nós\" onde uma condição é verificada, e se atendida o fluxo segue por um ramo, caso contrário, por outro, sempre levando ao próximo nó, até a finalização da árvore. Com os dados de treino, o algoritmo busca as melhores condições, e onde inserir cada uma dentro do fluxo."
   ]
  },
  {
   "cell_type": "code",
   "execution_count": null,
   "metadata": {},
   "outputs": [
    {
     "data": {
      "text/plain": [
       "RandomForestRegressor(bootstrap=True, criterion='mse', max_depth=None,\n",
       "           max_features='auto', max_leaf_nodes=None,\n",
       "           min_impurity_decrease=0.0, min_impurity_split=None,\n",
       "           min_samples_leaf=1, min_samples_split=2,\n",
       "           min_weight_fraction_leaf=0.0, n_estimators=1000, n_jobs=None,\n",
       "           oob_score=False, random_state=42, verbose=0, warm_start=False)"
      ]
     },
     "execution_count": 210,
     "metadata": {},
     "output_type": "execute_result"
    }
   ],
   "source": [
    "rf = RandomForestRegressor(n_estimators = 1000, random_state = 42)\n",
    "rf.fit(dados[l1],dados['quality'])"
   ]
  },
  {
   "cell_type": "code",
   "execution_count": null,
   "metadata": {},
   "outputs": [],
   "source": [
    "pred= rf.predict(dadost[l1])"
   ]
  },
  {
   "cell_type": "code",
   "execution_count": null,
   "metadata": {},
   "outputs": [],
   "source": [
    "dadost['qualiteste_rf']=0\n",
    "dadost=dadost.assign(qualiteste_rf=pred)"
   ]
  },
  {
   "cell_type": "markdown",
   "metadata": {},
   "source": [
    "##### Round"
   ]
  },
  {
   "cell_type": "code",
   "execution_count": null,
   "metadata": {},
   "outputs": [],
   "source": [
    "dadost=dadost.assign(qualiround_rf=round(dadost['qualiteste_rf']))"
   ]
  },
  {
   "cell_type": "code",
   "execution_count": null,
   "metadata": {},
   "outputs": [
    {
     "name": "stderr",
     "output_type": "stream",
     "text": [
      "C:\\Users\\rbuto\\AppData\\Local\\Continuum\\anaconda3\\lib\\site-packages\\ipykernel_launcher.py:5: SettingWithCopyWarning: \n",
      "A value is trying to be set on a copy of a slice from a DataFrame\n",
      "\n",
      "See the caveats in the documentation: http://pandas.pydata.org/pandas-docs/stable/indexing.html#indexing-view-versus-copy\n",
      "  \"\"\"\n",
      "C:\\Users\\rbuto\\AppData\\Local\\Continuum\\anaconda3\\lib\\site-packages\\pandas\\core\\indexing.py:189: SettingWithCopyWarning: \n",
      "A value is trying to be set on a copy of a slice from a DataFrame\n",
      "\n",
      "See the caveats in the documentation: http://pandas.pydata.org/pandas-docs/stable/indexing.html#indexing-view-versus-copy\n",
      "  self._setitem_with_indexer(indexer, value)\n",
      "C:\\Users\\rbuto\\AppData\\Local\\Continuum\\anaconda3\\lib\\site-packages\\ipykernel_launcher.py:7: SettingWithCopyWarning: \n",
      "A value is trying to be set on a copy of a slice from a DataFrame\n",
      "\n",
      "See the caveats in the documentation: http://pandas.pydata.org/pandas-docs/stable/indexing.html#indexing-view-versus-copy\n",
      "  import sys\n"
     ]
    }
   ],
   "source": [
    "verify(dadost, '_rf')"
   ]
  },
  {
   "cell_type": "markdown",
   "metadata": {},
   "source": [
    "#### Tolerância"
   ]
  },
  {
   "cell_type": "code",
   "execution_count": null,
   "metadata": {},
   "outputs": [],
   "source": [
    "tolerancia(dadost,'_rf')"
   ]
  },
  {
   "cell_type": "markdown",
   "metadata": {},
   "source": [
    "#### Classificando arredondamentos"
   ]
  },
  {
   "cell_type": "code",
   "execution_count": null,
   "metadata": {},
   "outputs": [],
   "source": [
    "certeza_de_arredondamento(dadost, '_rf')"
   ]
  },
  {
   "cell_type": "code",
   "execution_count": null,
   "metadata": {},
   "outputs": [],
   "source": [
    "dadost.head()"
   ]
  },
  {
   "cell_type": "markdown",
   "metadata": {},
   "source": [
    "### Acurácias"
   ]
  },
  {
   "cell_type": "code",
   "execution_count": null,
   "metadata": {},
   "outputs": [],
   "source": [
    "precisao(dadost, '_rf','por random forest')"
   ]
  },
  {
   "cell_type": "code",
   "execution_count": null,
   "metadata": {},
   "outputs": [],
   "source": [
    "tolerancia_count(dadost, '_rf')"
   ]
  },
  {
   "cell_type": "markdown",
   "metadata": {},
   "source": [
    "## Gradient Boosting\n",
    "Além do Random Forest também usaremos o Gradient Boosting como outro algorítmo afim de produzir um resultado mais apurado na classificação dos vinhos em relação aos outros métodos.\n",
    "\n",
    "O Gradient Boosting é uma técnica de aprendizado de máquina para problemas de regressão e classificação, que produz um modelo de previsão na forma de um ensemble (conjunto estatístico) de modelos de previsão fracos, geralmente árvores de decisão. Ela constrói o modelo em etapas, como outros métodos de boosting, e os generaliza, permitindo a otimização da regressão agregando diversas iterações.\n",
    "\n",
    "O princípio que está por trás de qualquer algoritmo de Boosting é a combinação do resultado de muitos classificadores (ou regressores) fracos, se combinando para formar uma espécie de comitê forte de decisão."
   ]
  },
  {
   "cell_type": "code",
   "execution_count": null,
   "metadata": {},
   "outputs": [],
   "source": [
    "params_gb = {'n_estimators': 500,\n",
    "          'max_depth': 4,\n",
    "          'min_samples_split': 5,\n",
    "          'learning_rate': 0.01,\n",
    "          'loss': 'ls'}"
   ]
  },
  {
   "cell_type": "code",
   "execution_count": null,
   "metadata": {},
   "outputs": [],
   "source": [
    "reg = ensemble.GradientBoostingRegressor(**params_gb)\n",
    "reg.fit(dados[l1], dados['quality'])\n",
    "\n",
    "mse = mean_squared_error(dadost['quality'], reg.predict(dadost[l1]))"
   ]
  },
  {
   "cell_type": "code",
   "execution_count": null,
   "metadata": {},
   "outputs": [],
   "source": [
    "test_score = np.zeros((params_gb['n_estimators'],), dtype=np.float64)\n",
    "for i, dadost['qualiteste_gb'] in enumerate(reg.staged_predict(dadost[l1])):\n",
    "    test_score[i] = reg.loss_(dadost['quality'], dadost['qualiteste_gb'])"
   ]
  },
  {
   "cell_type": "markdown",
   "metadata": {},
   "source": [
    "##### Round"
   ]
  },
  {
   "cell_type": "code",
   "execution_count": null,
   "metadata": {},
   "outputs": [],
   "source": [
    "dadost=dadost.assign(qualiround_gb=round(dadost['qualiteste_gb']))"
   ]
  },
  {
   "cell_type": "code",
   "execution_count": null,
   "metadata": {},
   "outputs": [],
   "source": [
    "verify(dadost, '_gb')"
   ]
  },
  {
   "cell_type": "markdown",
   "metadata": {},
   "source": [
    "##### Desvio Padrão"
   ]
  },
  {
   "cell_type": "code",
   "execution_count": null,
   "metadata": {},
   "outputs": [],
   "source": [
    "tolerancia(dadost,'_gb')"
   ]
  },
  {
   "cell_type": "markdown",
   "metadata": {},
   "source": [
    "##### Classificando arredondamentos"
   ]
  },
  {
   "cell_type": "code",
   "execution_count": null,
   "metadata": {},
   "outputs": [],
   "source": [
    "certeza_de_arredondamento(dadost, '_gb')"
   ]
  },
  {
   "cell_type": "code",
   "execution_count": null,
   "metadata": {
    "scrolled": true
   },
   "outputs": [],
   "source": [
    "dadost.head()"
   ]
  },
  {
   "cell_type": "markdown",
   "metadata": {},
   "source": [
    "### Acurácias"
   ]
  },
  {
   "cell_type": "code",
   "execution_count": null,
   "metadata": {},
   "outputs": [],
   "source": [
    "precisao(dadost, '_gb','por Gradient Boosting')"
   ]
  },
  {
   "cell_type": "code",
   "execution_count": null,
   "metadata": {
    "scrolled": true
   },
   "outputs": [],
   "source": [
    "tolerancia_count(dadost, '_gb')"
   ]
  },
  {
   "cell_type": "markdown",
   "metadata": {},
   "source": [
    "###### Junção das predições\n",
    "\n",
    "Com os resultados das três predições em mãos, foi gerado um gráfico com intuito comparativo entre os métodos utilizados que apresenta a quantidade de acertos que cada respectivo método obteve em cada nota de qualidade dos vinhos apresentados na base de dados.\n",
    "\n",
    "É posível observar que apesar de a regressão linear múltipla possuir uma acurácia melhor que ambos os outros algoritmos, ela permanece com menos acertos na maioria das categorias de qualidade do gráfico, porém obtém um spike de acertos na classificação 6 que a destaca dos demais métodos."
   ]
  },
  {
   "cell_type": "code",
   "execution_count": null,
   "metadata": {},
   "outputs": [],
   "source": [
    "dadosm=dadost[['acertos_rf','quality','acertos_rlm','acertos_gb']]"
   ]
  },
  {
   "cell_type": "code",
   "execution_count": null,
   "metadata": {},
   "outputs": [],
   "source": [
    "dadosmelt=dadosm.melt(id_vars=[\"quality\"], \n",
    "            var_name=\"var_origem\", \n",
    "            value_name=\"Acerto\")"
   ]
  },
  {
   "cell_type": "code",
   "execution_count": null,
   "metadata": {},
   "outputs": [],
   "source": [
    "dadosmelt=dadosmelt.loc[dadosmelt['Acerto']=='ta certo']"
   ]
  },
  {
   "cell_type": "code",
   "execution_count": null,
   "metadata": {},
   "outputs": [],
   "source": [
    "p1=sns.catplot(x=\"quality\",hue=\"var_origem\", kind=\"count\", palette=\"ch:.25\", data=dadosmelt)\n",
    "\n",
    "plt.show()"
   ]
  },
  {
   "cell_type": "markdown",
   "metadata": {},
   "source": [
    "# Conclusão\n",
    "\n",
    "Os resultados das acurácias dos métodos utilizados para fazer a predição da qualidade dos vinhos no projeto indicam que a utilização do método de Regressão Múltipla em relação ao uso dos métodos de Random Forest e Gradient Boosting é mais viável tendo em vista que  gera maior acurácia para a classificação dos vinhos, visto que a precisão da Regressão Múltipla foi de 62.07% enquanto do Random Forest resultou em 59.15% e  Gradient Boosting 57.03%. Os 3 métodos nos trazem resultados que consideraríamos satisfatórios, tendo em vista que estamos tratando de classificação de vinhos, vemos como aplicação de um classificador como este uma classificação inicial que posteriormente seria substituída por feedbacks de usuários, neste caso uma estrela dentre 10 não seria grande diferença, e seria fácilmente alterada caso o erro fosse atribuído ao arredondamento , para esse cenário nosso índice de 'acerto' , ou do que seria considerado aceitável seria por volta de 88%! \n",
    "\n",
    "\n",
    "Considerando 10 possíveis outputs, 62.07% de acertos é um resultado com o qual ficamos satisfeitos, para classificação de um vinho por conta própria, os números por si só passam uma imagem ótima e mostram o potencial do classificador, porém voltando na análise inicial vemos a concentração de ratings por volta de 5 como algo que pode tanto ter ferido quanto ajudado nosso classificador, por um lado ajudou-o dando um baseline que fez com que as classificações próximas a esta fossem mais fáceis, por outro lado, os coeficientes acabam por ter menor relevância em um caso como o nosso, uma vez que seu valor é pouco relevante para o output, aos olhos da regressão, com o código adaptável para receber um dataset novo temos toda a intenção de testá-lo com uma base mais rica e diversa e avaliar qual seria seu desempenho nesse contexto.\n",
    "\n",
    "Vale levar em consideração que os resultados podem variar muito caso alteremos a base de dados, a regressão linear múltipla por exemplo é constituída essencialmente de um conjunto de iterações de regressões lineares, e pode ser mais promissora para uma base mais diversa onde a constante inicial tem menos relevância."
   ]
  }
 ],
 "metadata": {
  "kernelspec": {
   "display_name": "Python 3",
   "language": "python",
   "name": "python3"
  },
  "language_info": {
   "codemirror_mode": {
    "name": "ipython",
    "version": 3
   },
   "file_extension": ".py",
   "mimetype": "text/x-python",
   "name": "python",
   "nbconvert_exporter": "python",
   "pygments_lexer": "ipython3",
   "version": "3.7.1"
  }
 },
 "nbformat": 4,
 "nbformat_minor": 2
}
